{
  "nbformat": 4,
  "nbformat_minor": 0,
  "metadata": {
    "colab": {
      "name": "paparra_Lab1.ipynb",
      "provenance": [],
      "collapsed_sections": []
    },
    "kernelspec": {
      "name": "python3",
      "display_name": "Python 3"
    },
    "language_info": {
      "name": "python"
    }
  },
  "cells": [
    {
      "cell_type": "markdown",
      "source": [
        "## ***Ejemplos de Quantconnect***\n",
        "\n",
        "\n"
      ],
      "metadata": {
        "id": "Wq_0_TAZbR7R"
      }
    },
    {
      "cell_type": "code",
      "execution_count": null,
      "metadata": {
        "colab": {
          "base_uri": "https://localhost:8080/"
        },
        "id": "-rouF-hA4RMP",
        "outputId": "f493d618-8119-4053-e7c2-6a3f65b1c5e0"
      },
      "outputs": [
        {
          "output_type": "stream",
          "name": "stdout",
          "text": [
            "Requirement already satisfied: pandas-datareader in /usr/local/lib/python3.7/dist-packages (0.9.0)\n",
            "Collecting pandas-datareader\n",
            "  Downloading pandas_datareader-0.10.0-py3-none-any.whl (109 kB)\n",
            "\u001b[K     |████████████████████████████████| 109 kB 10.7 MB/s \n",
            "\u001b[?25hRequirement already satisfied: pandas>=0.23 in /usr/local/lib/python3.7/dist-packages (from pandas-datareader) (1.3.5)\n",
            "Requirement already satisfied: lxml in /usr/local/lib/python3.7/dist-packages (from pandas-datareader) (4.2.6)\n",
            "Requirement already satisfied: requests>=2.19.0 in /usr/local/lib/python3.7/dist-packages (from pandas-datareader) (2.23.0)\n",
            "Requirement already satisfied: pytz>=2017.3 in /usr/local/lib/python3.7/dist-packages (from pandas>=0.23->pandas-datareader) (2022.1)\n",
            "Requirement already satisfied: numpy>=1.17.3 in /usr/local/lib/python3.7/dist-packages (from pandas>=0.23->pandas-datareader) (1.21.6)\n",
            "Requirement already satisfied: python-dateutil>=2.7.3 in /usr/local/lib/python3.7/dist-packages (from pandas>=0.23->pandas-datareader) (2.8.2)\n",
            "Requirement already satisfied: six>=1.5 in /usr/local/lib/python3.7/dist-packages (from python-dateutil>=2.7.3->pandas>=0.23->pandas-datareader) (1.15.0)\n",
            "Requirement already satisfied: chardet<4,>=3.0.2 in /usr/local/lib/python3.7/dist-packages (from requests>=2.19.0->pandas-datareader) (3.0.4)\n",
            "Requirement already satisfied: urllib3!=1.25.0,!=1.25.1,<1.26,>=1.21.1 in /usr/local/lib/python3.7/dist-packages (from requests>=2.19.0->pandas-datareader) (1.24.3)\n",
            "Requirement already satisfied: idna<3,>=2.5 in /usr/local/lib/python3.7/dist-packages (from requests>=2.19.0->pandas-datareader) (2.10)\n",
            "Requirement already satisfied: certifi>=2017.4.17 in /usr/local/lib/python3.7/dist-packages (from requests>=2.19.0->pandas-datareader) (2021.10.8)\n",
            "Installing collected packages: pandas-datareader\n",
            "  Attempting uninstall: pandas-datareader\n",
            "    Found existing installation: pandas-datareader 0.9.0\n",
            "    Uninstalling pandas-datareader-0.9.0:\n",
            "      Successfully uninstalled pandas-datareader-0.9.0\n",
            "Successfully installed pandas-datareader-0.10.0\n"
          ]
        }
      ],
      "source": [
        "!pip install --upgrade pandas-datareader\n"
      ]
    },
    {
      "cell_type": "code",
      "source": [
        "# Import our libraries\n",
        "\n",
        "# This is for numerical processing\n",
        "import numpy as np\n",
        "# This is the library most commonly used for plotting in Python.\n",
        "# Notice how we import it 'as' plt, this enables us to type plt\n",
        "# rather than the full string every time.\n",
        "import matplotlib.pyplot as plt"
      ],
      "metadata": {
        "id": "JuHApqIR5iGT"
      },
      "execution_count": null,
      "outputs": []
    },
    {
      "cell_type": "code",
      "source": [
        "import pandas as pd\n"
      ],
      "metadata": {
        "id": "gPTfApRf7cYd"
      },
      "execution_count": null,
      "outputs": []
    },
    {
      "cell_type": "markdown",
      "source": [
        "### **my own example 1**"
      ],
      "metadata": {
        "id": "1xN2LcFGbAp2"
      }
    },
    {
      "cell_type": "code",
      "source": [
        "cuerdaing1 = 'Luiz Diaz'\n",
        "cuerdaing2 = \"Es un crack\"\n",
        "print(cuerdaing1 + ' ' + cuerdaing2)"
      ],
      "metadata": {
        "colab": {
          "base_uri": "https://localhost:8080/"
        },
        "id": "MHGkualdbk7G",
        "outputId": "b32db3fc-b22c-43c9-9691-6fe7bb5abd8e"
      },
      "execution_count": null,
      "outputs": [
        {
          "output_type": "stream",
          "name": "stdout",
          "text": [
            "Luiz Diaz Es un crack\n"
          ]
        }
      ]
    },
    {
      "cell_type": "markdown",
      "source": [
        "### **my own example 2**\n",
        "\n",
        "\n"
      ],
      "metadata": {
        "id": "LR5GCFu0b5yy"
      }
    },
    {
      "cell_type": "code",
      "source": [
        "my_string = \"23\"\n",
        "print(type(my_string))\n",
        "\n",
        "my_int = int(my_string)\n",
        "print(type(my_int))"
      ],
      "metadata": {
        "colab": {
          "base_uri": "https://localhost:8080/"
        },
        "id": "5gyDdzRfb2Rf",
        "outputId": "47966e3e-a2c1-4da6-cf69-c019e8fda249"
      },
      "execution_count": null,
      "outputs": [
        {
          "output_type": "stream",
          "name": "stdout",
          "text": [
            "<class 'str'>\n",
            "<class 'int'>\n"
          ]
        }
      ]
    },
    {
      "cell_type": "code",
      "source": [
        "cuerdaing = \"123\"\n",
        "print(type(cuerdaing))"
      ],
      "metadata": {
        "colab": {
          "base_uri": "https://localhost:8080/"
        },
        "id": "FIxNlnovcDbz",
        "outputId": "f2ac93c3-e0f4-454f-e2b5-c7c28246744d"
      },
      "execution_count": null,
      "outputs": [
        {
          "output_type": "stream",
          "name": "stdout",
          "text": [
            "<class 'str'>\n"
          ]
        }
      ]
    },
    {
      "cell_type": "markdown",
      "source": [
        "### **my own example 3**\n",
        "\n"
      ],
      "metadata": {
        "id": "2UDwmxfHcLQj"
      }
    },
    {
      "cell_type": "code",
      "source": [
        "flotante1 = 5.0\n",
        "print(type(flotante1))"
      ],
      "metadata": {
        "colab": {
          "base_uri": "https://localhost:8080/"
        },
        "id": "iItXmr4fcevq",
        "outputId": "252b053c-3792-4000-ce3d-6f016c249b89"
      },
      "execution_count": null,
      "outputs": [
        {
          "output_type": "stream",
          "name": "stdout",
          "text": [
            "<class 'float'>\n"
          ]
        }
      ]
    },
    {
      "cell_type": "code",
      "source": [
        "my_float = 1.0\n",
        "print(type(my_float))\n",
        "\n",
        "my_int = 1\n",
        "print(type(my_int))"
      ],
      "metadata": {
        "colab": {
          "base_uri": "https://localhost:8080/"
        },
        "id": "dRXy88fsclI3",
        "outputId": "6beac34b-2067-4e9a-beae-7b055c25c820"
      },
      "execution_count": null,
      "outputs": [
        {
          "output_type": "stream",
          "name": "stdout",
          "text": [
            "<class 'float'>\n",
            "<class 'int'>\n"
          ]
        }
      ]
    },
    {
      "cell_type": "markdown",
      "source": [
        "### **my own example 4**\n"
      ],
      "metadata": {
        "id": "foO7uArWcuts"
      }
    },
    {
      "cell_type": "code",
      "source": [
        "entero = 11\n",
        "print(type(entero))"
      ],
      "metadata": {
        "colab": {
          "base_uri": "https://localhost:8080/"
        },
        "id": "xXl23fv3cpWP",
        "outputId": "a7f899a2-ea1d-41d0-ddfc-48cb54d5ae0d"
      },
      "execution_count": null,
      "outputs": [
        {
          "output_type": "stream",
          "name": "stdout",
          "text": [
            "<class 'int'>\n"
          ]
        }
      ]
    },
    {
      "cell_type": "markdown",
      "source": [
        "### **my own example 5**\n",
        "\n",
        "\n"
      ],
      "metadata": {
        "id": "WxuvZ7h-c5Mz"
      }
    },
    {
      "cell_type": "code",
      "source": [
        "print(\"SUMA \", 5+2)\n",
        "print(\"RESTA \", 7-5)\n",
        "print(\"MULTI \", 5*10)\n",
        "print(\"DIV\", 10/2)\n",
        "print(\"ESPONENTE\", 8**4)"
      ],
      "metadata": {
        "colab": {
          "base_uri": "https://localhost:8080/"
        },
        "id": "pL-JO_dkc5l4",
        "outputId": "bd15c9ef-a904-4827-9885-902c025df8cb"
      },
      "execution_count": null,
      "outputs": [
        {
          "output_type": "stream",
          "name": "stdout",
          "text": [
            "SUMA  7\n",
            "RESTA  2\n",
            "MULTI  50\n",
            "DIV 5.0\n",
            "ESPONENTE 4096\n"
          ]
        }
      ]
    },
    {
      "cell_type": "markdown",
      "source": [
        "### **my own example 6**\n",
        "\n",
        "\n",
        "\n"
      ],
      "metadata": {
        "id": "7YEf2EgbdGR8"
      }
    },
    {
      "cell_type": "code",
      "source": [
        "booleano10 = True\n",
        "print(booleano10)\n",
        "print(type(booleano10))"
      ],
      "metadata": {
        "colab": {
          "base_uri": "https://localhost:8080/"
        },
        "id": "z8AL9t6LdHEu",
        "outputId": "eace9d48-c91e-4c3b-f1bf-c3814f6cc1c3"
      },
      "execution_count": null,
      "outputs": [
        {
          "output_type": "stream",
          "name": "stdout",
          "text": [
            "True\n",
            "<class 'bool'>\n"
          ]
        }
      ]
    },
    {
      "cell_type": "markdown",
      "source": [
        "### **my own example 7**\n"
      ],
      "metadata": {
        "id": "6k4T2cQpdZxd"
      }
    },
    {
      "cell_type": "code",
      "source": [
        "my_list = ['Quant', 'Connect', 6,6,6]\n",
        "print(my_list)"
      ],
      "metadata": {
        "colab": {
          "base_uri": "https://localhost:8080/"
        },
        "id": "KMoq2CtedfWT",
        "outputId": "0ef2c07f-48f4-44f5-ef1c-2a042579ddd4"
      },
      "execution_count": null,
      "outputs": [
        {
          "output_type": "stream",
          "name": "stdout",
          "text": [
            "['Quant', 'Connect', 6, 6, 6]\n"
          ]
        }
      ]
    },
    {
      "cell_type": "markdown",
      "source": [
        "### **my own example 8**"
      ],
      "metadata": {
        "id": "SnlQvw3seCGh"
      }
    },
    {
      "cell_type": "code",
      "source": [
        "lista = ['Pablo', 'Cristancho', 12,34,56]\n",
        "print(list)"
      ],
      "metadata": {
        "colab": {
          "base_uri": "https://localhost:8080/"
        },
        "id": "FeWpeD_QeBR3",
        "outputId": "b4a44081-1ac1-4531-816d-1aa6d10fd727"
      },
      "execution_count": null,
      "outputs": [
        {
          "output_type": "stream",
          "name": "stdout",
          "text": [
            "<class 'list'>\n"
          ]
        }
      ]
    },
    {
      "cell_type": "markdown",
      "source": [
        "### **my own example 9**"
      ],
      "metadata": {
        "id": "keeTeNJsdn4B"
      }
    },
    {
      "cell_type": "code",
      "source": [
        "print(len(lista))\n",
        "print(lista[1])\n",
        "print(lista[len(lista) - 1])"
      ],
      "metadata": {
        "colab": {
          "base_uri": "https://localhost:8080/"
        },
        "id": "FNIS_7NWdnSW",
        "outputId": "465f2086-c2d2-4d17-9417-ebb16e8feb1c"
      },
      "execution_count": null,
      "outputs": [
        {
          "output_type": "stream",
          "name": "stdout",
          "text": [
            "5\n",
            "Cristancho\n",
            "56\n"
          ]
        }
      ]
    },
    {
      "cell_type": "markdown",
      "source": [
        "### **my own example 10**"
      ],
      "metadata": {
        "id": "SBmUEKV4ejYs"
      }
    },
    {
      "cell_type": "code",
      "source": [
        "my_list = ['Quant', 'Connect', 1,2,3]\n",
        "print(len(my_list))\n",
        "\n",
        "print(my_list[0])\n",
        "\n",
        "print(my_list[len(my_list) - 1])"
      ],
      "metadata": {
        "colab": {
          "base_uri": "https://localhost:8080/"
        },
        "id": "AUn5KByBehua",
        "outputId": "59fe63af-d8ff-4abb-ac25-b6c75a758c21"
      },
      "execution_count": null,
      "outputs": [
        {
          "output_type": "stream",
          "name": "stdout",
          "text": [
            "5\n",
            "Quant\n",
            "3\n"
          ]
        }
      ]
    },
    {
      "cell_type": "markdown",
      "source": [
        "### **my own example 11**"
      ],
      "metadata": {
        "id": "LyOYjqOdesnf"
      }
    },
    {
      "cell_type": "code",
      "source": [
        "my_list = ['Quant','Connect',1,2,3]\n",
        "print(my_list[1:3])"
      ],
      "metadata": {
        "colab": {
          "base_uri": "https://localhost:8080/"
        },
        "id": "liXkuvj1e2_D",
        "outputId": "eebd5490-8f83-44a0-fca3-4e73fd2ef996"
      },
      "execution_count": null,
      "outputs": [
        {
          "output_type": "stream",
          "name": "stdout",
          "text": [
            "['Connect', 1]\n"
          ]
        }
      ]
    },
    {
      "cell_type": "markdown",
      "source": [
        "### **my own example 12**"
      ],
      "metadata": {
        "id": "XYrSIGliegbP"
      }
    },
    {
      "cell_type": "code",
      "source": [
        "lista = ['Hola', 'Colombia']\n",
        "lista.append('Hola')\n",
        "print(lista)\n",
        "lista.remove('Hola')\n",
        "print(lista)"
      ],
      "metadata": {
        "colab": {
          "base_uri": "https://localhost:8080/"
        },
        "id": "QP5bz9CdfB63",
        "outputId": "62c2df89-971e-44af-e6d5-0eabfaf08dd8"
      },
      "execution_count": null,
      "outputs": [
        {
          "output_type": "stream",
          "name": "stdout",
          "text": [
            "['Hola', 'Colombia', 'Hola']\n",
            "['Colombia', 'Hola']\n"
          ]
        }
      ]
    },
    {
      "cell_type": "markdown",
      "source": [
        "### **my own example 13**"
      ],
      "metadata": {
        "id": "G7n6iK1gfaTZ"
      }
    },
    {
      "cell_type": "code",
      "source": [
        "LuchoDiaz = ('Crack','del','Liverpool')\n",
        "print(LuchoDiaz[:1])"
      ],
      "metadata": {
        "colab": {
          "base_uri": "https://localhost:8080/"
        },
        "id": "eLjIXyrVfd0c",
        "outputId": "96d58383-732c-47b1-8d9c-f39c87f0fd02"
      },
      "execution_count": null,
      "outputs": [
        {
          "output_type": "stream",
          "name": "stdout",
          "text": [
            "('Crack',)\n"
          ]
        }
      ]
    },
    {
      "cell_type": "markdown",
      "source": [
        "### **my own example 14**"
      ],
      "metadata": {
        "id": "tD0iErYzgYfP"
      }
    },
    {
      "cell_type": "code",
      "source": [
        "lista2 = ['crack', 'liverpool', '23', 'gol', 'flaco', 'colombia']\n",
        "set_lucho = set(lista2)\n",
        "print(set_lucho)\n",
        "diccionario1 = {'crack': 'liverpool', '23': 'gol', 'flaco': 'colombia'}\n",
        "print(diccionario1['crack'])"
      ],
      "metadata": {
        "colab": {
          "base_uri": "https://localhost:8080/"
        },
        "id": "bMm7mlqIgY2P",
        "outputId": "4e798ff8-545c-48c8-a4f6-1fe75330e0b0"
      },
      "execution_count": null,
      "outputs": [
        {
          "output_type": "stream",
          "name": "stdout",
          "text": [
            "{'crack', 'gol', '23', 'liverpool', 'flaco', 'colombia'}\n",
            "liverpool\n"
          ]
        }
      ]
    },
    {
      "cell_type": "markdown",
      "source": [
        "### **my own example 15**"
      ],
      "metadata": {
        "id": "yI-lVp7sg0mL"
      }
    },
    {
      "cell_type": "code",
      "source": [
        "cuerda = 'BIENVENIDOS A LA UNIVERSIDA NACIONAL DE COLOMBIA'\n",
        "print(cuerda[:11])"
      ],
      "metadata": {
        "colab": {
          "base_uri": "https://localhost:8080/"
        },
        "id": "5q2Mg7_Gg0EZ",
        "outputId": "45c57255-a952-406c-afea-258c88da6ae8"
      },
      "execution_count": null,
      "outputs": [
        {
          "output_type": "stream",
          "name": "stdout",
          "text": [
            "BIENVENIDOS\n"
          ]
        }
      ]
    },
    {
      "cell_type": "markdown",
      "source": [
        "### **my own example 16**"
      ],
      "metadata": {
        "id": "Gju6EmL6hLF0"
      }
    },
    {
      "cell_type": "code",
      "source": [
        "my_str = 'GOLAZO DE FALCAO'\n",
        "print(my_str[1:])\n",
        "print(\"Counting the number of U's in this sentence\".count('U'))\n",
        "\n",
        "print('The first time e appears in this sentence'.find('h'))\n",
        "\n",
        "print('all the a in this sentence now becomes i'.replace('a','i'))"
      ],
      "metadata": {
        "colab": {
          "base_uri": "https://localhost:8080/"
        },
        "id": "rfTn9JtchNJ1",
        "outputId": "ceb39cf2-8ba4-495a-f5fc-dae22cfed754"
      },
      "execution_count": null,
      "outputs": [
        {
          "output_type": "stream",
          "name": "stdout",
          "text": [
            "OLAZO DE FALCAO\n",
            "1\n",
            "1\n",
            "ill the i in this sentence now becomes i\n"
          ]
        }
      ]
    },
    {
      "cell_type": "markdown",
      "source": [
        "### **my own example 17**"
      ],
      "metadata": {
        "id": "rDa4gUEDh_Yg"
      }
    },
    {
      "cell_type": "code",
      "source": [
        "Time = '1998-01-27 02:30:00'\n",
        "splited_list = Time.split(' ')\n",
        "date = splited_list[0]\n",
        "time = splited_list[1]\n",
        "print(date, time)\n",
        "\n",
        "hour = time.split(':')[0]\n",
        "print(hour)\n"
      ],
      "metadata": {
        "colab": {
          "base_uri": "https://localhost:8080/"
        },
        "id": "L1FYnC5BiCoo",
        "outputId": "c670ecad-2676-47a1-e93f-55cc3a871a57"
      },
      "execution_count": null,
      "outputs": [
        {
          "output_type": "stream",
          "name": "stdout",
          "text": [
            "1998-01-27 02:30:00\n",
            "02\n"
          ]
        }
      ]
    },
    {
      "cell_type": "markdown",
      "source": [
        "### **my own example 18**"
      ],
      "metadata": {
        "id": "L2zTPO90iUs4"
      }
    },
    {
      "cell_type": "code",
      "source": [
        "print (1 == 0)  \n",
        "print (1 == 1)   \n",
        "print (1 != 0)    \n",
        "print (5*5 >= 5**5)    \n",
        "print (5**5 >= 5*5*5*5*5)   "
      ],
      "metadata": {
        "colab": {
          "base_uri": "https://localhost:8080/"
        },
        "id": "JI3fBjnhiUfa",
        "outputId": "6b7f3e54-e32d-49df-adbf-4b2b11e010a5"
      },
      "execution_count": null,
      "outputs": [
        {
          "output_type": "stream",
          "name": "stdout",
          "text": [
            "False\n",
            "True\n",
            "True\n",
            "False\n",
            "True\n"
          ]
        }
      ]
    },
    {
      "cell_type": "markdown",
      "source": [
        "### **my own example 19**"
      ],
      "metadata": {
        "id": "stFdXdDkisSh"
      }
    },
    {
      "cell_type": "code",
      "source": [
        "print (2 == -3)  \n",
        "print (3.14 == 3.14)   \n",
        "print (5 != 1000)   \n",
        "print (69 >= 69)    \n",
        "print (689 >= 689)"
      ],
      "metadata": {
        "id": "-IJSEkICirwn"
      },
      "execution_count": null,
      "outputs": []
    },
    {
      "cell_type": "markdown",
      "source": [
        "### **my own example 20**"
      ],
      "metadata": {
        "id": "52scmpuIkrtD"
      }
    },
    {
      "cell_type": "code",
      "source": [
        "data = X = np.random.normal(0, 1, 100)\n",
        "X2 = np.random.normal(0, 1, 100)\n",
        "\n",
        "plt.plot(X);\n",
        "plt.plot(X2);\n",
        "plt.xlabel('Time')\n",
        "plt.ylabel('Returns')\n",
        "plt.legend(['X', 'X2']);"
      ],
      "metadata": {
        "colab": {
          "base_uri": "https://localhost:8080/",
          "height": 279
        },
        "id": "4YhHPAv06VFv",
        "outputId": "e98f0573-44d3-439c-ad89-b013d6a5578e"
      },
      "execution_count": null,
      "outputs": [
        {
          "output_type": "display_data",
          "data": {
            "text/plain": [
              "<Figure size 432x288 with 1 Axes>"
            ],
            "image/png": "[encoded data removed]"
          },
          "metadata": {
            "needs_background": "light"
          }
        }
      ]
    },
    {
      "cell_type": "markdown",
      "source": [
        "### **my own example 21**"
      ],
      "metadata": {
        "id": "RLWSrILakueH"
      }
    },
    {
      "cell_type": "code",
      "source": [
        "np.mean(X)\n"
      ],
      "metadata": {
        "colab": {
          "base_uri": "https://localhost:8080/"
        },
        "id": "bEKKiZ6h-CUX",
        "outputId": "417c3863-f96e-4291-b907-09d62b09073c"
      },
      "execution_count": null,
      "outputs": [
        {
          "output_type": "execute_result",
          "data": {
            "text/plain": [
              "-0.0010580752261169768"
            ]
          },
          "metadata": {},
          "execution_count": 7
        }
      ]
    },
    {
      "cell_type": "code",
      "source": [
        "np.std(X)"
      ],
      "metadata": {
        "colab": {
          "base_uri": "https://localhost:8080/"
        },
        "id": "x8kmYvkw-aCa",
        "outputId": "d0bbea27-459c-4734-a1f3-5e7c795bb39e"
      },
      "execution_count": null,
      "outputs": [
        {
          "output_type": "execute_result",
          "data": {
            "text/plain": [
              "0.9379615705077635"
            ]
          },
          "metadata": {},
          "execution_count": 8
        }
      ]
    },
    {
      "cell_type": "code",
      "source": [
        "import numpy as np\n",
        "import statsmodels.api as sm\n",
        "from statsmodels import regression\n",
        "import matplotlib.pyplot as plt"
      ],
      "metadata": {
        "colab": {
          "base_uri": "https://localhost:8080/"
        },
        "id": "swG-PKTHAwYf",
        "outputId": "043490b4-187f-4e6c-a503-94a2b3901438"
      },
      "execution_count": null,
      "outputs": [
        {
          "output_type": "stream",
          "name": "stderr",
          "text": [
            "/usr/local/lib/python3.7/dist-packages/statsmodels/tools/_testing.py:19: FutureWarning: pandas.util.testing is deprecated. Use the functions in the public API at pandas.testing instead.\n",
            "  import pandas.util.testing as tm\n"
          ]
        }
      ]
    },
    {
      "cell_type": "markdown",
      "source": [
        "### **my own example 22**"
      ],
      "metadata": {
        "id": "YvL0N8BXpfTz"
      }
    },
    {
      "cell_type": "code",
      "source": [
        "# Generate two artificial samples and pool them\n",
        "sample1 = np.arange(30) + 4*np.random.randn(30)\n",
        "sample2 = sample1 + np.arange(30)\n",
        "pool = np.hstack((sample1, sample2))\n",
        "\n",
        "# Run a regression on the pooled data, with the independent variable being the original indices\n",
        "model = regression.linear_model.OLS(pool, sm.add_constant(np.hstack((np.arange(30),np.arange(30))))).fit()\n",
        "\n",
        "# Plot the two samples along with the regression line\n",
        "plt.scatter(np.arange(30), sample1, color='b')\n",
        "plt.scatter(np.arange(30), sample2, color='g')\n",
        "plt.plot(model.params[0] + model.params[1]*np.arange(30), color='r');"
      ],
      "metadata": {
        "colab": {
          "base_uri": "https://localhost:8080/",
          "height": 265
        },
        "id": "zRNjwRjNEu0R",
        "outputId": "9d45e3f7-2eb1-4e2a-c6e0-74a66afb2c76"
      },
      "execution_count": null,
      "outputs": [
        {
          "output_type": "display_data",
          "data": {
            "text/plain": [
              "<Figure size 432x288 with 1 Axes>"
            ],
            "image/png": "[encoded data removed]"
          },
          "metadata": {
            "needs_background": "light"
          }
        }
      ]
    },
    {
      "cell_type": "markdown",
      "source": [
        "### **my own example 23**"
      ],
      "metadata": {
        "id": "MgslUIldpiWC"
      }
    },
    {
      "cell_type": "code",
      "source": [
        "# Generate normally distributed errors\n",
        "randos = [np.random.randn(500) for i in range(500)]\n",
        "y = np.random.randn(500)\n",
        "# Generate random walks\n",
        "randows = [[sum(rando[:i+1]) for i in range(500)] for rando in randos]\n",
        "yw = [sum(y[:i+1]) for i in range(500)]\n",
        "\n",
        "for i in range(500):\n",
        "    plt.plot(randows[i], alpha=5)"
      ],
      "metadata": {
        "colab": {
          "base_uri": "https://localhost:8080/",
          "height": 265
        },
        "id": "hKG-wbEbE0gS",
        "outputId": "b21c15d9-6195-4dff-9c78-8762a96860de"
      },
      "execution_count": null,
      "outputs": [
        {
          "output_type": "display_data",
          "data": {
            "text/plain": [
              "<Figure size 432x288 with 1 Axes>"
            ],
            "image/png": "[encoded data removed]"
          },
          "metadata": {
            "needs_background": "light"
          }
        }
      ]
    },
    {
      "cell_type": "markdown",
      "source": [
        "### **my own example 24**"
      ],
      "metadata": {
        "id": "1VaOC0Ufplky"
      }
    },
    {
      "cell_type": "code",
      "source": [
        "# Compute R-squared of linear regression for each element of randows with yw\n",
        "rs = [regression.linear_model.OLS(yw, x).fit().rsquared for x in randows]\n",
        "                    \n",
        "# Plot and count the random walks that have R-squared with yw > .8\n",
        "rcount = 0\n",
        "for i in range(100):\n",
        "    if rs[i] > .8:\n",
        "        rcount += 1\n",
        "        plt.plot(randows[i], alpha=0.5)\n",
        "print ('Linearly related walks out of 100:', rcount)\n",
        "\n",
        "# Plot yw\n",
        "plt.plot(yw, color='k');"
      ],
      "metadata": {
        "colab": {
          "base_uri": "https://localhost:8080/",
          "height": 284
        },
        "id": "hyMTKlD5G0iI",
        "outputId": "91be6d4b-fe1e-4193-c8ba-e92c6298b909"
      },
      "execution_count": null,
      "outputs": [
        {
          "output_type": "stream",
          "name": "stdout",
          "text": [
            "Linearly related walks out of 100: 0\n"
          ]
        },
        {
          "output_type": "display_data",
          "data": {
            "text/plain": [
              "<Figure size 432x288 with 1 Axes>"
            ],
            "image/png": "[encoded data removed]"
          },
          "metadata": {
            "needs_background": "light"
          }
        }
      ]
    },
    {
      "cell_type": "markdown",
      "source": [
        "### **my own example 25**"
      ],
      "metadata": {
        "id": "ptGQ5OgfpqP7"
      }
    },
    {
      "cell_type": "code",
      "source": [
        "# Import our libraries\n",
        "\n",
        "# This is for numerical processing\n",
        "import numpy as np\n",
        "# This is the library most commonly used for plotting in Python.\n",
        "# Notice how we import it 'as' plt, this enables us to type plt\n",
        "# rather than the full string every time.\n",
        "import matplotlib.pyplot as plt"
      ],
      "metadata": {
        "id": "bJhF8UecHd6y"
      },
      "execution_count": null,
      "outputs": []
    },
    {
      "cell_type": "code",
      "source": [
        "# Original Quantopian code:\n",
        "# prices = get_pricing(symbol, start_date=start, end_date=end, fields=\"price\")\n",
        "\n",
        "# Taken from github.com/gjhernandezp\n",
        "import pandas_datareader as pdr\n",
        "import datetime\n",
        "\n",
        "symbol = \"CMG\"\n",
        "start = \"2012-01-01\"\n",
        "end = \"2016-01-01\"\n",
        "prices = pdr.get_data_yahoo(symbol, start=start, end=end)['Adj Close']"
      ],
      "metadata": {
        "id": "tLeqoNjVrP3q"
      },
      "execution_count": null,
      "outputs": []
    },
    {
      "cell_type": "markdown",
      "source": [
        "### **my own example 26**"
      ],
      "metadata": {
        "id": "94i4MxHnk9FN"
      }
    },
    {
      "cell_type": "code",
      "source": [
        "data = pdr.get_data_yahoo(['AAPL', 'MSFT'])\n",
        "data.head()"
      ],
      "metadata": {
        "colab": {
          "base_uri": "https://localhost:8080/",
          "height": 269
        },
        "id": "-gTJzTelH21F",
        "outputId": "e6bcb917-cebf-4a77-c597-b6fc94bb5d3f"
      },
      "execution_count": null,
      "outputs": [
        {
          "output_type": "execute_result",
          "data": {
            "text/plain": [
              "Attributes  Adj Close                 Close                  High             \\\n",
              "Symbols          AAPL       MSFT       AAPL       MSFT       AAPL       MSFT   \n",
              "Date                                                                           \n",
              "2017-04-20  33.621540  61.143261  35.610001  65.500000  35.730000  65.750000   \n",
              "2017-04-21  33.581409  61.983391  35.567501  66.400002  35.669998  66.699997   \n",
              "2017-04-24  33.904785  63.038227  35.910000  67.529999  35.987499  67.660004   \n",
              "2017-04-25  34.114864  63.402283  36.132500  67.919998  36.224998  68.040001   \n",
              "2017-04-26  33.914211  63.318260  35.919998  67.830002  36.150002  68.309998   \n",
              "\n",
              "Attributes        Low                  Open                 Volume              \n",
              "Symbols          AAPL       MSFT       AAPL       MSFT        AAPL        MSFT  \n",
              "Date                                                                            \n",
              "2017-04-20  35.290001  65.139999  35.305000  65.459999  93278400.0  22299500.0  \n",
              "2017-04-21  35.462502  65.449997  35.610001  65.669998  69283600.0  32522600.0  \n",
              "2017-04-24  35.794998  67.099998  35.875000  67.480003  68537200.0  29770000.0  \n",
              "2017-04-25  35.967499  67.599998  35.977501  67.900002  75486000.0  30242700.0  \n",
              "2017-04-26  35.845001  67.620003  36.117500  68.080002  80164800.0  26190800.0  "
            ],
            "text/html": [
              "\n",
              "  <div id=\"df-9e791d3c-0e71-4ee1-a22b-36cf8976e72d\">\n",
              "    <div class=\"colab-df-container\">\n",
              "      <div>\n",
              "<style scoped>\n",
              "    .dataframe tbody tr th:only-of-type {\n",
              "        vertical-align: middle;\n",
              "    }\n",
              "\n",
              "    .dataframe tbody tr th {\n",
              "        vertical-align: top;\n",
              "    }\n",
              "\n",
              "    .dataframe thead tr th {\n",
              "        text-align: left;\n",
              "    }\n",
              "\n",
              "    .dataframe thead tr:last-of-type th {\n",
              "        text-align: right;\n",
              "    }\n",
              "</style>\n",
              "<table border=\"1\" class=\"dataframe\">\n",
              "  <thead>\n",
              "    <tr>\n",
              "      <th>Attributes</th>\n",
              "      <th colspan=\"2\" halign=\"left\">Adj Close</th>\n",
              "      <th colspan=\"2\" halign=\"left\">Close</th>\n",
              "      <th colspan=\"2\" halign=\"left\">High</th>\n",
              "      <th colspan=\"2\" halign=\"left\">Low</th>\n",
              "      <th colspan=\"2\" halign=\"left\">Open</th>\n",
              "      <th colspan=\"2\" halign=\"left\">Volume</th>\n",
              "    </tr>\n",
              "    <tr>\n",
              "      <th>Symbols</th>\n",
              "      <th>AAPL</th>\n",
              "      <th>MSFT</th>\n",
              "      <th>AAPL</th>\n",
              "      <th>MSFT</th>\n",
              "      <th>AAPL</th>\n",
              "      <th>MSFT</th>\n",
              "      <th>AAPL</th>\n",
              "      <th>MSFT</th>\n",
              "      <th>AAPL</th>\n",
              "      <th>MSFT</th>\n",
              "      <th>AAPL</th>\n",
              "      <th>MSFT</th>\n",
              "    </tr>\n",
              "    <tr>\n",
              "      <th>Date</th>\n",
              "      <th></th>\n",
              "      <th></th>\n",
              "      <th></th>\n",
              "      <th></th>\n",
              "      <th></th>\n",
              "      <th></th>\n",
              "      <th></th>\n",
              "      <th></th>\n",
              "      <th></th>\n",
              "      <th></th>\n",
              "      <th></th>\n",
              "      <th></th>\n",
              "    </tr>\n",
              "  </thead>\n",
              "  <tbody>\n",
              "    <tr>\n",
              "      <th>2017-04-20</th>\n",
              "      <td>33.621540</td>\n",
              "      <td>61.143261</td>\n",
              "      <td>35.610001</td>\n",
              "      <td>65.500000</td>\n",
              "      <td>35.730000</td>\n",
              "      <td>65.750000</td>\n",
              "      <td>35.290001</td>\n",
              "      <td>65.139999</td>\n",
              "      <td>35.305000</td>\n",
              "      <td>65.459999</td>\n",
              "      <td>93278400.0</td>\n",
              "      <td>22299500.0</td>\n",
              "    </tr>\n",
              "    <tr>\n",
              "      <th>2017-04-21</th>\n",
              "      <td>33.581409</td>\n",
              "      <td>61.983391</td>\n",
              "      <td>35.567501</td>\n",
              "      <td>66.400002</td>\n",
              "      <td>35.669998</td>\n",
              "      <td>66.699997</td>\n",
              "      <td>35.462502</td>\n",
              "      <td>65.449997</td>\n",
              "      <td>35.610001</td>\n",
              "      <td>65.669998</td>\n",
              "      <td>69283600.0</td>\n",
              "      <td>32522600.0</td>\n",
              "    </tr>\n",
              "    <tr>\n",
              "      <th>2017-04-24</th>\n",
              "      <td>33.904785</td>\n",
              "      <td>63.038227</td>\n",
              "      <td>35.910000</td>\n",
              "      <td>67.529999</td>\n",
              "      <td>35.987499</td>\n",
              "      <td>67.660004</td>\n",
              "      <td>35.794998</td>\n",
              "      <td>67.099998</td>\n",
              "      <td>35.875000</td>\n",
              "      <td>67.480003</td>\n",
              "      <td>68537200.0</td>\n",
              "      <td>29770000.0</td>\n",
              "    </tr>\n",
              "    <tr>\n",
              "      <th>2017-04-25</th>\n",
              "      <td>34.114864</td>\n",
              "      <td>63.402283</td>\n",
              "      <td>36.132500</td>\n",
              "      <td>67.919998</td>\n",
              "      <td>36.224998</td>\n",
              "      <td>68.040001</td>\n",
              "      <td>35.967499</td>\n",
              "      <td>67.599998</td>\n",
              "      <td>35.977501</td>\n",
              "      <td>67.900002</td>\n",
              "      <td>75486000.0</td>\n",
              "      <td>30242700.0</td>\n",
              "    </tr>\n",
              "    <tr>\n",
              "      <th>2017-04-26</th>\n",
              "      <td>33.914211</td>\n",
              "      <td>63.318260</td>\n",
              "      <td>35.919998</td>\n",
              "      <td>67.830002</td>\n",
              "      <td>36.150002</td>\n",
              "      <td>68.309998</td>\n",
              "      <td>35.845001</td>\n",
              "      <td>67.620003</td>\n",
              "      <td>36.117500</td>\n",
              "      <td>68.080002</td>\n",
              "      <td>80164800.0</td>\n",
              "      <td>26190800.0</td>\n",
              "    </tr>\n",
              "  </tbody>\n",
              "</table>\n",
              "</div>\n",
              "      <button class=\"colab-df-convert\" onclick=\"convertToInteractive('df-9e791d3c-0e71-4ee1-a22b-36cf8976e72d')\"\n",
              "              title=\"Convert this dataframe to an interactive table.\"\n",
              "              style=\"display:none;\">\n",
              "        \n",
              "  <svg xmlns=\"http://www.w3.org/2000/svg\" height=\"24px\"viewBox=\"0 0 24 24\"\n",
              "       width=\"24px\">\n",
              "    <path d=\"M0 0h24v24H0V0z\" fill=\"none\"/>\n",
              "    <path d=\"M18.56 5.44l.94 2.06.94-2.06 2.06-.94-2.06-.94-.94-2.06-.94 2.06-2.06.94zm-11 1L8.5 8.5l.94-2.06 2.06-.94-2.06-.94L8.5 2.5l-.94 2.06-2.06.94zm10 10l.94 2.06.94-2.06 2.06-.94-2.06-.94-.94-2.06-.94 2.06-2.06.94z\"/><path d=\"M17.41 7.96l-1.37-1.37c-.4-.4-.92-.59-1.43-.59-.52 0-1.04.2-1.43.59L10.3 9.45l-7.72 7.72c-.78.78-.78 2.05 0 2.83L4 21.41c.39.39.9.59 1.41.59.51 0 1.02-.2 1.41-.59l7.78-7.78 2.81-2.81c.8-.78.8-2.07 0-2.86zM5.41 20L4 18.59l7.72-7.72 1.47 1.35L5.41 20z\"/>\n",
              "  </svg>\n",
              "      </button>\n",
              "      \n",
              "  <style>\n",
              "    .colab-df-container {\n",
              "      display:flex;\n",
              "      flex-wrap:wrap;\n",
              "      gap: 12px;\n",
              "    }\n",
              "\n",
              "    .colab-df-convert {\n",
              "      background-color: #E8F0FE;\n",
              "      border: none;\n",
              "      border-radius: 50%;\n",
              "      cursor: pointer;\n",
              "      display: none;\n",
              "      fill: #1967D2;\n",
              "      height: 32px;\n",
              "      padding: 0 0 0 0;\n",
              "      width: 32px;\n",
              "    }\n",
              "\n",
              "    .colab-df-convert:hover {\n",
              "      background-color: #E2EBFA;\n",
              "      box-shadow: 0px 1px 2px rgba(60, 64, 67, 0.3), 0px 1px 3px 1px rgba(60, 64, 67, 0.15);\n",
              "      fill: #174EA6;\n",
              "    }\n",
              "\n",
              "    [theme=dark] .colab-df-convert {\n",
              "      background-color: #3B4455;\n",
              "      fill: #D2E3FC;\n",
              "    }\n",
              "\n",
              "    [theme=dark] .colab-df-convert:hover {\n",
              "      background-color: #434B5C;\n",
              "      box-shadow: 0px 1px 3px 1px rgba(0, 0, 0, 0.15);\n",
              "      filter: drop-shadow(0px 1px 2px rgba(0, 0, 0, 0.3));\n",
              "      fill: #FFFFFF;\n",
              "    }\n",
              "  </style>\n",
              "\n",
              "      <script>\n",
              "        const buttonEl =\n",
              "          document.querySelector('#df-9e791d3c-0e71-4ee1-a22b-36cf8976e72d button.colab-df-convert');\n",
              "        buttonEl.style.display =\n",
              "          google.colab.kernel.accessAllowed ? 'block' : 'none';\n",
              "\n",
              "        async function convertToInteractive(key) {\n",
              "          const element = document.querySelector('#df-9e791d3c-0e71-4ee1-a22b-36cf8976e72d');\n",
              "          const dataTable =\n",
              "            await google.colab.kernel.invokeFunction('convertToInteractive',\n",
              "                                                     [key], {});\n",
              "          if (!dataTable) return;\n",
              "\n",
              "          const docLinkHtml = 'Like what you see? Visit the ' +\n",
              "            '<a target=\"_blank\" href=https://colab.research.google.com/notebooks/data_table.ipynb>data table notebook</a>'\n",
              "            + ' to learn more about interactive tables.';\n",
              "          element.innerHTML = '';\n",
              "          dataTable['output_type'] = 'display_data';\n",
              "          await google.colab.output.renderOutput(dataTable, element);\n",
              "          const docLink = document.createElement('div');\n",
              "          docLink.innerHTML = docLinkHtml;\n",
              "          element.appendChild(docLink);\n",
              "        }\n",
              "      </script>\n",
              "    </div>\n",
              "  </div>\n",
              "  "
            ]
          },
          "metadata": {},
          "execution_count": 15
        }
      ]
    },
    {
      "cell_type": "markdown",
      "source": [
        "### **my own example 27**"
      ],
      "metadata": {
        "id": "hm80HyBtk-zh"
      }
    },
    {
      "cell_type": "code",
      "source": [
        "data = pdr.get_data_yahoo(['CMG'])\n",
        "data.head()"
      ],
      "metadata": {
        "colab": {
          "base_uri": "https://localhost:8080/",
          "height": 269
        },
        "id": "Y9qrtzMWtM5X",
        "outputId": "aa19db93-070e-4dc3-89db-d7ef028d5f11"
      },
      "execution_count": null,
      "outputs": [
        {
          "output_type": "execute_result",
          "data": {
            "text/plain": [
              "Attributes   Adj Close       Close        High         Low        Open  \\\n",
              "Symbols            CMG         CMG         CMG         CMG         CMG   \n",
              "Date                                                                     \n",
              "2017-04-20  478.390015  478.390015  483.500000  475.489990  477.480011   \n",
              "2017-04-21  479.089996  479.089996  481.989990  476.420013  479.000000   \n",
              "2017-04-24  468.790009  468.790009  482.820007  465.200012  482.750000   \n",
              "2017-04-25  471.760010  471.760010  474.269989  468.269989  471.100006   \n",
              "2017-04-26  482.989990  482.989990  497.480011  474.600006  474.660004   \n",
              "\n",
              "Attributes   Volume  \n",
              "Symbols         CMG  \n",
              "Date                 \n",
              "2017-04-20   629100  \n",
              "2017-04-21   798700  \n",
              "2017-04-24  1145100  \n",
              "2017-04-25  2025400  \n",
              "2017-04-26  3910000  "
            ],
            "text/html": [
              "\n",
              "  <div id=\"df-bed3ece8-5281-4ecc-ba15-05de967cb038\">\n",
              "    <div class=\"colab-df-container\">\n",
              "      <div>\n",
              "<style scoped>\n",
              "    .dataframe tbody tr th:only-of-type {\n",
              "        vertical-align: middle;\n",
              "    }\n",
              "\n",
              "    .dataframe tbody tr th {\n",
              "        vertical-align: top;\n",
              "    }\n",
              "\n",
              "    .dataframe thead tr th {\n",
              "        text-align: left;\n",
              "    }\n",
              "\n",
              "    .dataframe thead tr:last-of-type th {\n",
              "        text-align: right;\n",
              "    }\n",
              "</style>\n",
              "<table border=\"1\" class=\"dataframe\">\n",
              "  <thead>\n",
              "    <tr>\n",
              "      <th>Attributes</th>\n",
              "      <th>Adj Close</th>\n",
              "      <th>Close</th>\n",
              "      <th>High</th>\n",
              "      <th>Low</th>\n",
              "      <th>Open</th>\n",
              "      <th>Volume</th>\n",
              "    </tr>\n",
              "    <tr>\n",
              "      <th>Symbols</th>\n",
              "      <th>CMG</th>\n",
              "      <th>CMG</th>\n",
              "      <th>CMG</th>\n",
              "      <th>CMG</th>\n",
              "      <th>CMG</th>\n",
              "      <th>CMG</th>\n",
              "    </tr>\n",
              "    <tr>\n",
              "      <th>Date</th>\n",
              "      <th></th>\n",
              "      <th></th>\n",
              "      <th></th>\n",
              "      <th></th>\n",
              "      <th></th>\n",
              "      <th></th>\n",
              "    </tr>\n",
              "  </thead>\n",
              "  <tbody>\n",
              "    <tr>\n",
              "      <th>2017-04-20</th>\n",
              "      <td>478.390015</td>\n",
              "      <td>478.390015</td>\n",
              "      <td>483.500000</td>\n",
              "      <td>475.489990</td>\n",
              "      <td>477.480011</td>\n",
              "      <td>629100</td>\n",
              "    </tr>\n",
              "    <tr>\n",
              "      <th>2017-04-21</th>\n",
              "      <td>479.089996</td>\n",
              "      <td>479.089996</td>\n",
              "      <td>481.989990</td>\n",
              "      <td>476.420013</td>\n",
              "      <td>479.000000</td>\n",
              "      <td>798700</td>\n",
              "    </tr>\n",
              "    <tr>\n",
              "      <th>2017-04-24</th>\n",
              "      <td>468.790009</td>\n",
              "      <td>468.790009</td>\n",
              "      <td>482.820007</td>\n",
              "      <td>465.200012</td>\n",
              "      <td>482.750000</td>\n",
              "      <td>1145100</td>\n",
              "    </tr>\n",
              "    <tr>\n",
              "      <th>2017-04-25</th>\n",
              "      <td>471.760010</td>\n",
              "      <td>471.760010</td>\n",
              "      <td>474.269989</td>\n",
              "      <td>468.269989</td>\n",
              "      <td>471.100006</td>\n",
              "      <td>2025400</td>\n",
              "    </tr>\n",
              "    <tr>\n",
              "      <th>2017-04-26</th>\n",
              "      <td>482.989990</td>\n",
              "      <td>482.989990</td>\n",
              "      <td>497.480011</td>\n",
              "      <td>474.600006</td>\n",
              "      <td>474.660004</td>\n",
              "      <td>3910000</td>\n",
              "    </tr>\n",
              "  </tbody>\n",
              "</table>\n",
              "</div>\n",
              "      <button class=\"colab-df-convert\" onclick=\"convertToInteractive('df-bed3ece8-5281-4ecc-ba15-05de967cb038')\"\n",
              "              title=\"Convert this dataframe to an interactive table.\"\n",
              "              style=\"display:none;\">\n",
              "        \n",
              "  <svg xmlns=\"http://www.w3.org/2000/svg\" height=\"24px\"viewBox=\"0 0 24 24\"\n",
              "       width=\"24px\">\n",
              "    <path d=\"M0 0h24v24H0V0z\" fill=\"none\"/>\n",
              "    <path d=\"M18.56 5.44l.94 2.06.94-2.06 2.06-.94-2.06-.94-.94-2.06-.94 2.06-2.06.94zm-11 1L8.5 8.5l.94-2.06 2.06-.94-2.06-.94L8.5 2.5l-.94 2.06-2.06.94zm10 10l.94 2.06.94-2.06 2.06-.94-2.06-.94-.94-2.06-.94 2.06-2.06.94z\"/><path d=\"M17.41 7.96l-1.37-1.37c-.4-.4-.92-.59-1.43-.59-.52 0-1.04.2-1.43.59L10.3 9.45l-7.72 7.72c-.78.78-.78 2.05 0 2.83L4 21.41c.39.39.9.59 1.41.59.51 0 1.02-.2 1.41-.59l7.78-7.78 2.81-2.81c.8-.78.8-2.07 0-2.86zM5.41 20L4 18.59l7.72-7.72 1.47 1.35L5.41 20z\"/>\n",
              "  </svg>\n",
              "      </button>\n",
              "      \n",
              "  <style>\n",
              "    .colab-df-container {\n",
              "      display:flex;\n",
              "      flex-wrap:wrap;\n",
              "      gap: 12px;\n",
              "    }\n",
              "\n",
              "    .colab-df-convert {\n",
              "      background-color: #E8F0FE;\n",
              "      border: none;\n",
              "      border-radius: 50%;\n",
              "      cursor: pointer;\n",
              "      display: none;\n",
              "      fill: #1967D2;\n",
              "      height: 32px;\n",
              "      padding: 0 0 0 0;\n",
              "      width: 32px;\n",
              "    }\n",
              "\n",
              "    .colab-df-convert:hover {\n",
              "      background-color: #E2EBFA;\n",
              "      box-shadow: 0px 1px 2px rgba(60, 64, 67, 0.3), 0px 1px 3px 1px rgba(60, 64, 67, 0.15);\n",
              "      fill: #174EA6;\n",
              "    }\n",
              "\n",
              "    [theme=dark] .colab-df-convert {\n",
              "      background-color: #3B4455;\n",
              "      fill: #D2E3FC;\n",
              "    }\n",
              "\n",
              "    [theme=dark] .colab-df-convert:hover {\n",
              "      background-color: #434B5C;\n",
              "      box-shadow: 0px 1px 3px 1px rgba(0, 0, 0, 0.15);\n",
              "      filter: drop-shadow(0px 1px 2px rgba(0, 0, 0, 0.3));\n",
              "      fill: #FFFFFF;\n",
              "    }\n",
              "  </style>\n",
              "\n",
              "      <script>\n",
              "        const buttonEl =\n",
              "          document.querySelector('#df-bed3ece8-5281-4ecc-ba15-05de967cb038 button.colab-df-convert');\n",
              "        buttonEl.style.display =\n",
              "          google.colab.kernel.accessAllowed ? 'block' : 'none';\n",
              "\n",
              "        async function convertToInteractive(key) {\n",
              "          const element = document.querySelector('#df-bed3ece8-5281-4ecc-ba15-05de967cb038');\n",
              "          const dataTable =\n",
              "            await google.colab.kernel.invokeFunction('convertToInteractive',\n",
              "                                                     [key], {});\n",
              "          if (!dataTable) return;\n",
              "\n",
              "          const docLinkHtml = 'Like what you see? Visit the ' +\n",
              "            '<a target=\"_blank\" href=https://colab.research.google.com/notebooks/data_table.ipynb>data table notebook</a>'\n",
              "            + ' to learn more about interactive tables.';\n",
              "          element.innerHTML = '';\n",
              "          dataTable['output_type'] = 'display_data';\n",
              "          await google.colab.output.renderOutput(dataTable, element);\n",
              "          const docLink = document.createElement('div');\n",
              "          docLink.innerHTML = docLinkHtml;\n",
              "          element.appendChild(docLink);\n",
              "        }\n",
              "      </script>\n",
              "    </div>\n",
              "  </div>\n",
              "  "
            ]
          },
          "metadata": {},
          "execution_count": 16
        }
      ]
    },
    {
      "cell_type": "markdown",
      "source": [
        "### **my own example 28**"
      ],
      "metadata": {
        "id": "x8kc50uFlATB"
      }
    },
    {
      "cell_type": "code",
      "source": [
        "data = pdr.get_data_yahoo(['AAPL', 'MSFT'])\n",
        "data.columns = [symbol for e in data.columns]\n",
        "data.head()"
      ],
      "metadata": {
        "colab": {
          "base_uri": "https://localhost:8080/",
          "height": 238
        },
        "id": "4maWxCwSKH64",
        "outputId": "5d9411a4-3f48-4080-bebb-223db303a14b"
      },
      "execution_count": null,
      "outputs": [
        {
          "output_type": "execute_result",
          "data": {
            "text/plain": [
              "                  CMG        CMG        CMG        CMG        CMG        CMG  \\\n",
              "Date                                                                           \n",
              "2017-04-20  33.621536  61.143253  35.610001  65.500000  35.730000  65.750000   \n",
              "2017-04-21  33.581409  61.983395  35.567501  66.400002  35.669998  66.699997   \n",
              "2017-04-24  33.904785  63.038219  35.910000  67.529999  35.987499  67.660004   \n",
              "2017-04-25  34.114857  63.402283  36.132500  67.919998  36.224998  68.040001   \n",
              "2017-04-26  33.914219  63.318279  35.919998  67.830002  36.150002  68.309998   \n",
              "\n",
              "                  CMG        CMG        CMG        CMG         CMG         CMG  \n",
              "Date                                                                            \n",
              "2017-04-20  35.290001  65.139999  35.305000  65.459999  93278400.0  22299500.0  \n",
              "2017-04-21  35.462502  65.449997  35.610001  65.669998  69283600.0  32522600.0  \n",
              "2017-04-24  35.794998  67.099998  35.875000  67.480003  68537200.0  29770000.0  \n",
              "2017-04-25  35.967499  67.599998  35.977501  67.900002  75486000.0  30242700.0  \n",
              "2017-04-26  35.845001  67.620003  36.117500  68.080002  80164800.0  26190800.0  "
            ],
            "text/html": [
              "\n",
              "  <div id=\"df-85f0b202-4d35-4d07-a4ae-f13158bc1633\">\n",
              "    <div class=\"colab-df-container\">\n",
              "      <div>\n",
              "<style scoped>\n",
              "    .dataframe tbody tr th:only-of-type {\n",
              "        vertical-align: middle;\n",
              "    }\n",
              "\n",
              "    .dataframe tbody tr th {\n",
              "        vertical-align: top;\n",
              "    }\n",
              "\n",
              "    .dataframe thead th {\n",
              "        text-align: right;\n",
              "    }\n",
              "</style>\n",
              "<table border=\"1\" class=\"dataframe\">\n",
              "  <thead>\n",
              "    <tr style=\"text-align: right;\">\n",
              "      <th></th>\n",
              "      <th>CMG</th>\n",
              "      <th>CMG</th>\n",
              "      <th>CMG</th>\n",
              "      <th>CMG</th>\n",
              "      <th>CMG</th>\n",
              "      <th>CMG</th>\n",
              "      <th>CMG</th>\n",
              "      <th>CMG</th>\n",
              "      <th>CMG</th>\n",
              "      <th>CMG</th>\n",
              "      <th>CMG</th>\n",
              "      <th>CMG</th>\n",
              "    </tr>\n",
              "    <tr>\n",
              "      <th>Date</th>\n",
              "      <th></th>\n",
              "      <th></th>\n",
              "      <th></th>\n",
              "      <th></th>\n",
              "      <th></th>\n",
              "      <th></th>\n",
              "      <th></th>\n",
              "      <th></th>\n",
              "      <th></th>\n",
              "      <th></th>\n",
              "      <th></th>\n",
              "      <th></th>\n",
              "    </tr>\n",
              "  </thead>\n",
              "  <tbody>\n",
              "    <tr>\n",
              "      <th>2017-04-20</th>\n",
              "      <td>33.621536</td>\n",
              "      <td>61.143253</td>\n",
              "      <td>35.610001</td>\n",
              "      <td>65.500000</td>\n",
              "      <td>35.730000</td>\n",
              "      <td>65.750000</td>\n",
              "      <td>35.290001</td>\n",
              "      <td>65.139999</td>\n",
              "      <td>35.305000</td>\n",
              "      <td>65.459999</td>\n",
              "      <td>93278400.0</td>\n",
              "      <td>22299500.0</td>\n",
              "    </tr>\n",
              "    <tr>\n",
              "      <th>2017-04-21</th>\n",
              "      <td>33.581409</td>\n",
              "      <td>61.983395</td>\n",
              "      <td>35.567501</td>\n",
              "      <td>66.400002</td>\n",
              "      <td>35.669998</td>\n",
              "      <td>66.699997</td>\n",
              "      <td>35.462502</td>\n",
              "      <td>65.449997</td>\n",
              "      <td>35.610001</td>\n",
              "      <td>65.669998</td>\n",
              "      <td>69283600.0</td>\n",
              "      <td>32522600.0</td>\n",
              "    </tr>\n",
              "    <tr>\n",
              "      <th>2017-04-24</th>\n",
              "      <td>33.904785</td>\n",
              "      <td>63.038219</td>\n",
              "      <td>35.910000</td>\n",
              "      <td>67.529999</td>\n",
              "      <td>35.987499</td>\n",
              "      <td>67.660004</td>\n",
              "      <td>35.794998</td>\n",
              "      <td>67.099998</td>\n",
              "      <td>35.875000</td>\n",
              "      <td>67.480003</td>\n",
              "      <td>68537200.0</td>\n",
              "      <td>29770000.0</td>\n",
              "    </tr>\n",
              "    <tr>\n",
              "      <th>2017-04-25</th>\n",
              "      <td>34.114857</td>\n",
              "      <td>63.402283</td>\n",
              "      <td>36.132500</td>\n",
              "      <td>67.919998</td>\n",
              "      <td>36.224998</td>\n",
              "      <td>68.040001</td>\n",
              "      <td>35.967499</td>\n",
              "      <td>67.599998</td>\n",
              "      <td>35.977501</td>\n",
              "      <td>67.900002</td>\n",
              "      <td>75486000.0</td>\n",
              "      <td>30242700.0</td>\n",
              "    </tr>\n",
              "    <tr>\n",
              "      <th>2017-04-26</th>\n",
              "      <td>33.914219</td>\n",
              "      <td>63.318279</td>\n",
              "      <td>35.919998</td>\n",
              "      <td>67.830002</td>\n",
              "      <td>36.150002</td>\n",
              "      <td>68.309998</td>\n",
              "      <td>35.845001</td>\n",
              "      <td>67.620003</td>\n",
              "      <td>36.117500</td>\n",
              "      <td>68.080002</td>\n",
              "      <td>80164800.0</td>\n",
              "      <td>26190800.0</td>\n",
              "    </tr>\n",
              "  </tbody>\n",
              "</table>\n",
              "</div>\n",
              "      <button class=\"colab-df-convert\" onclick=\"convertToInteractive('df-85f0b202-4d35-4d07-a4ae-f13158bc1633')\"\n",
              "              title=\"Convert this dataframe to an interactive table.\"\n",
              "              style=\"display:none;\">\n",
              "        \n",
              "  <svg xmlns=\"http://www.w3.org/2000/svg\" height=\"24px\"viewBox=\"0 0 24 24\"\n",
              "       width=\"24px\">\n",
              "    <path d=\"M0 0h24v24H0V0z\" fill=\"none\"/>\n",
              "    <path d=\"M18.56 5.44l.94 2.06.94-2.06 2.06-.94-2.06-.94-.94-2.06-.94 2.06-2.06.94zm-11 1L8.5 8.5l.94-2.06 2.06-.94-2.06-.94L8.5 2.5l-.94 2.06-2.06.94zm10 10l.94 2.06.94-2.06 2.06-.94-2.06-.94-.94-2.06-.94 2.06-2.06.94z\"/><path d=\"M17.41 7.96l-1.37-1.37c-.4-.4-.92-.59-1.43-.59-.52 0-1.04.2-1.43.59L10.3 9.45l-7.72 7.72c-.78.78-.78 2.05 0 2.83L4 21.41c.39.39.9.59 1.41.59.51 0 1.02-.2 1.41-.59l7.78-7.78 2.81-2.81c.8-.78.8-2.07 0-2.86zM5.41 20L4 18.59l7.72-7.72 1.47 1.35L5.41 20z\"/>\n",
              "  </svg>\n",
              "      </button>\n",
              "      \n",
              "  <style>\n",
              "    .colab-df-container {\n",
              "      display:flex;\n",
              "      flex-wrap:wrap;\n",
              "      gap: 12px;\n",
              "    }\n",
              "\n",
              "    .colab-df-convert {\n",
              "      background-color: #E8F0FE;\n",
              "      border: none;\n",
              "      border-radius: 50%;\n",
              "      cursor: pointer;\n",
              "      display: none;\n",
              "      fill: #1967D2;\n",
              "      height: 32px;\n",
              "      padding: 0 0 0 0;\n",
              "      width: 32px;\n",
              "    }\n",
              "\n",
              "    .colab-df-convert:hover {\n",
              "      background-color: #E2EBFA;\n",
              "      box-shadow: 0px 1px 2px rgba(60, 64, 67, 0.3), 0px 1px 3px 1px rgba(60, 64, 67, 0.15);\n",
              "      fill: #174EA6;\n",
              "    }\n",
              "\n",
              "    [theme=dark] .colab-df-convert {\n",
              "      background-color: #3B4455;\n",
              "      fill: #D2E3FC;\n",
              "    }\n",
              "\n",
              "    [theme=dark] .colab-df-convert:hover {\n",
              "      background-color: #434B5C;\n",
              "      box-shadow: 0px 1px 3px 1px rgba(0, 0, 0, 0.15);\n",
              "      filter: drop-shadow(0px 1px 2px rgba(0, 0, 0, 0.3));\n",
              "      fill: #FFFFFF;\n",
              "    }\n",
              "  </style>\n",
              "\n",
              "      <script>\n",
              "        const buttonEl =\n",
              "          document.querySelector('#df-85f0b202-4d35-4d07-a4ae-f13158bc1633 button.colab-df-convert');\n",
              "        buttonEl.style.display =\n",
              "          google.colab.kernel.accessAllowed ? 'block' : 'none';\n",
              "\n",
              "        async function convertToInteractive(key) {\n",
              "          const element = document.querySelector('#df-85f0b202-4d35-4d07-a4ae-f13158bc1633');\n",
              "          const dataTable =\n",
              "            await google.colab.kernel.invokeFunction('convertToInteractive',\n",
              "                                                     [key], {});\n",
              "          if (!dataTable) return;\n",
              "\n",
              "          const docLinkHtml = 'Like what you see? Visit the ' +\n",
              "            '<a target=\"_blank\" href=https://colab.research.google.com/notebooks/data_table.ipynb>data table notebook</a>'\n",
              "            + ' to learn more about interactive tables.';\n",
              "          element.innerHTML = '';\n",
              "          dataTable['output_type'] = 'display_data';\n",
              "          await google.colab.output.renderOutput(dataTable, element);\n",
              "          const docLink = document.createElement('div');\n",
              "          docLink.innerHTML = docLinkHtml;\n",
              "          element.appendChild(docLink);\n",
              "        }\n",
              "      </script>\n",
              "    </div>\n",
              "  </div>\n",
              "  "
            ]
          },
          "metadata": {},
          "execution_count": 17
        }
      ]
    },
    {
      "cell_type": "markdown",
      "source": [
        "### **my own example 29**"
      ],
      "metadata": {
        "id": "cqTLjUN3lCoX"
      }
    },
    {
      "cell_type": "code",
      "source": [
        "data = pdr.get_data_yahoo(['CMG'])\n",
        "data.columns = [symbol for e in data.columns]\n",
        "data.head()"
      ],
      "metadata": {
        "colab": {
          "base_uri": "https://localhost:8080/",
          "height": 238
        },
        "id": "l-cG1TQOs97w",
        "outputId": "94a8b3ee-e821-441a-9ceb-9e3917351985"
      },
      "execution_count": null,
      "outputs": [
        {
          "output_type": "execute_result",
          "data": {
            "text/plain": [
              "                   CMG         CMG         CMG         CMG         CMG  \\\n",
              "Date                                                                     \n",
              "2017-04-20  478.390015  478.390015  483.500000  475.489990  477.480011   \n",
              "2017-04-21  479.089996  479.089996  481.989990  476.420013  479.000000   \n",
              "2017-04-24  468.790009  468.790009  482.820007  465.200012  482.750000   \n",
              "2017-04-25  471.760010  471.760010  474.269989  468.269989  471.100006   \n",
              "2017-04-26  482.989990  482.989990  497.480011  474.600006  474.660004   \n",
              "\n",
              "                CMG  \n",
              "Date                 \n",
              "2017-04-20   629100  \n",
              "2017-04-21   798700  \n",
              "2017-04-24  1145100  \n",
              "2017-04-25  2025400  \n",
              "2017-04-26  3910000  "
            ],
            "text/html": [
              "\n",
              "  <div id=\"df-d6568d47-62d9-40da-a3f5-b170d054f5d6\">\n",
              "    <div class=\"colab-df-container\">\n",
              "      <div>\n",
              "<style scoped>\n",
              "    .dataframe tbody tr th:only-of-type {\n",
              "        vertical-align: middle;\n",
              "    }\n",
              "\n",
              "    .dataframe tbody tr th {\n",
              "        vertical-align: top;\n",
              "    }\n",
              "\n",
              "    .dataframe thead th {\n",
              "        text-align: right;\n",
              "    }\n",
              "</style>\n",
              "<table border=\"1\" class=\"dataframe\">\n",
              "  <thead>\n",
              "    <tr style=\"text-align: right;\">\n",
              "      <th></th>\n",
              "      <th>CMG</th>\n",
              "      <th>CMG</th>\n",
              "      <th>CMG</th>\n",
              "      <th>CMG</th>\n",
              "      <th>CMG</th>\n",
              "      <th>CMG</th>\n",
              "    </tr>\n",
              "    <tr>\n",
              "      <th>Date</th>\n",
              "      <th></th>\n",
              "      <th></th>\n",
              "      <th></th>\n",
              "      <th></th>\n",
              "      <th></th>\n",
              "      <th></th>\n",
              "    </tr>\n",
              "  </thead>\n",
              "  <tbody>\n",
              "    <tr>\n",
              "      <th>2017-04-20</th>\n",
              "      <td>478.390015</td>\n",
              "      <td>478.390015</td>\n",
              "      <td>483.500000</td>\n",
              "      <td>475.489990</td>\n",
              "      <td>477.480011</td>\n",
              "      <td>629100</td>\n",
              "    </tr>\n",
              "    <tr>\n",
              "      <th>2017-04-21</th>\n",
              "      <td>479.089996</td>\n",
              "      <td>479.089996</td>\n",
              "      <td>481.989990</td>\n",
              "      <td>476.420013</td>\n",
              "      <td>479.000000</td>\n",
              "      <td>798700</td>\n",
              "    </tr>\n",
              "    <tr>\n",
              "      <th>2017-04-24</th>\n",
              "      <td>468.790009</td>\n",
              "      <td>468.790009</td>\n",
              "      <td>482.820007</td>\n",
              "      <td>465.200012</td>\n",
              "      <td>482.750000</td>\n",
              "      <td>1145100</td>\n",
              "    </tr>\n",
              "    <tr>\n",
              "      <th>2017-04-25</th>\n",
              "      <td>471.760010</td>\n",
              "      <td>471.760010</td>\n",
              "      <td>474.269989</td>\n",
              "      <td>468.269989</td>\n",
              "      <td>471.100006</td>\n",
              "      <td>2025400</td>\n",
              "    </tr>\n",
              "    <tr>\n",
              "      <th>2017-04-26</th>\n",
              "      <td>482.989990</td>\n",
              "      <td>482.989990</td>\n",
              "      <td>497.480011</td>\n",
              "      <td>474.600006</td>\n",
              "      <td>474.660004</td>\n",
              "      <td>3910000</td>\n",
              "    </tr>\n",
              "  </tbody>\n",
              "</table>\n",
              "</div>\n",
              "      <button class=\"colab-df-convert\" onclick=\"convertToInteractive('df-d6568d47-62d9-40da-a3f5-b170d054f5d6')\"\n",
              "              title=\"Convert this dataframe to an interactive table.\"\n",
              "              style=\"display:none;\">\n",
              "        \n",
              "  <svg xmlns=\"http://www.w3.org/2000/svg\" height=\"24px\"viewBox=\"0 0 24 24\"\n",
              "       width=\"24px\">\n",
              "    <path d=\"M0 0h24v24H0V0z\" fill=\"none\"/>\n",
              "    <path d=\"M18.56 5.44l.94 2.06.94-2.06 2.06-.94-2.06-.94-.94-2.06-.94 2.06-2.06.94zm-11 1L8.5 8.5l.94-2.06 2.06-.94-2.06-.94L8.5 2.5l-.94 2.06-2.06.94zm10 10l.94 2.06.94-2.06 2.06-.94-2.06-.94-.94-2.06-.94 2.06-2.06.94z\"/><path d=\"M17.41 7.96l-1.37-1.37c-.4-.4-.92-.59-1.43-.59-.52 0-1.04.2-1.43.59L10.3 9.45l-7.72 7.72c-.78.78-.78 2.05 0 2.83L4 21.41c.39.39.9.59 1.41.59.51 0 1.02-.2 1.41-.59l7.78-7.78 2.81-2.81c.8-.78.8-2.07 0-2.86zM5.41 20L4 18.59l7.72-7.72 1.47 1.35L5.41 20z\"/>\n",
              "  </svg>\n",
              "      </button>\n",
              "      \n",
              "  <style>\n",
              "    .colab-df-container {\n",
              "      display:flex;\n",
              "      flex-wrap:wrap;\n",
              "      gap: 12px;\n",
              "    }\n",
              "\n",
              "    .colab-df-convert {\n",
              "      background-color: #E8F0FE;\n",
              "      border: none;\n",
              "      border-radius: 50%;\n",
              "      cursor: pointer;\n",
              "      display: none;\n",
              "      fill: #1967D2;\n",
              "      height: 32px;\n",
              "      padding: 0 0 0 0;\n",
              "      width: 32px;\n",
              "    }\n",
              "\n",
              "    .colab-df-convert:hover {\n",
              "      background-color: #E2EBFA;\n",
              "      box-shadow: 0px 1px 2px rgba(60, 64, 67, 0.3), 0px 1px 3px 1px rgba(60, 64, 67, 0.15);\n",
              "      fill: #174EA6;\n",
              "    }\n",
              "\n",
              "    [theme=dark] .colab-df-convert {\n",
              "      background-color: #3B4455;\n",
              "      fill: #D2E3FC;\n",
              "    }\n",
              "\n",
              "    [theme=dark] .colab-df-convert:hover {\n",
              "      background-color: #434B5C;\n",
              "      box-shadow: 0px 1px 3px 1px rgba(0, 0, 0, 0.15);\n",
              "      filter: drop-shadow(0px 1px 2px rgba(0, 0, 0, 0.3));\n",
              "      fill: #FFFFFF;\n",
              "    }\n",
              "  </style>\n",
              "\n",
              "      <script>\n",
              "        const buttonEl =\n",
              "          document.querySelector('#df-d6568d47-62d9-40da-a3f5-b170d054f5d6 button.colab-df-convert');\n",
              "        buttonEl.style.display =\n",
              "          google.colab.kernel.accessAllowed ? 'block' : 'none';\n",
              "\n",
              "        async function convertToInteractive(key) {\n",
              "          const element = document.querySelector('#df-d6568d47-62d9-40da-a3f5-b170d054f5d6');\n",
              "          const dataTable =\n",
              "            await google.colab.kernel.invokeFunction('convertToInteractive',\n",
              "                                                     [key], {});\n",
              "          if (!dataTable) return;\n",
              "\n",
              "          const docLinkHtml = 'Like what you see? Visit the ' +\n",
              "            '<a target=\"_blank\" href=https://colab.research.google.com/notebooks/data_table.ipynb>data table notebook</a>'\n",
              "            + ' to learn more about interactive tables.';\n",
              "          element.innerHTML = '';\n",
              "          dataTable['output_type'] = 'display_data';\n",
              "          await google.colab.output.renderOutput(dataTable, element);\n",
              "          const docLink = document.createElement('div');\n",
              "          docLink.innerHTML = docLinkHtml;\n",
              "          element.appendChild(docLink);\n",
              "        }\n",
              "      </script>\n",
              "    </div>\n",
              "  </div>\n",
              "  "
            ]
          },
          "metadata": {},
          "execution_count": 18
        }
      ]
    },
    {
      "cell_type": "markdown",
      "source": [
        "### **my own example 30**"
      ],
      "metadata": {
        "id": "5zLzab8olFNr"
      }
    },
    {
      "cell_type": "code",
      "source": [
        "data = pdr.get_data_yahoo(['CMG'])\n",
        "returns = data.pct_change()[1:]"
      ],
      "metadata": {
        "id": "eNSW-KB_wvU1"
      },
      "execution_count": null,
      "outputs": []
    },
    {
      "cell_type": "code",
      "source": [
        "# Remove the first element because percent change from nothing to something is NaN\n",
        "R = data.pct_change()[1:]\n",
        "\n",
        "# El eje x es una línea numérica que se ha dividido en rangos de números o bins.\n",
        "plt.hist(R, bins=25)\n",
        "plt.xlabel('Return')\n",
        "plt.ylabel('Number of Days Observed')\n",
        "plt.title('Frequency Distribution of CMG Returns, 2017');"
      ],
      "metadata": {
        "colab": {
          "base_uri": "https://localhost:8080/",
          "height": 295
        },
        "id": "_zglKGRerozp",
        "outputId": "8184dc6b-1a10-4a35-e393-25b3e6e14d6e"
      },
      "execution_count": null,
      "outputs": [
        {
          "output_type": "display_data",
          "data": {
            "text/plain": [
              "<Figure size 432x288 with 1 Axes>"
            ],
            "image/png": "[encoded data removed]"
          },
          "metadata": {
            "needs_background": "light"
          }
        }
      ]
    },
    {
      "cell_type": "markdown",
      "source": [
        "### **my own example 31**"
      ],
      "metadata": {
        "id": "LScBKQgjlHDh"
      }
    },
    {
      "cell_type": "code",
      "source": [
        "plt.hist(returns, bins = 30, cumulative='true');"
      ],
      "metadata": {
        "colab": {
          "base_uri": "https://localhost:8080/",
          "height": 265
        },
        "id": "jcMOF039wlq-",
        "outputId": "c32364dd-8e6c-432f-e7ef-dc98b7b7ca37"
      },
      "execution_count": null,
      "outputs": [
        {
          "output_type": "display_data",
          "data": {
            "text/plain": [
              "<Figure size 432x288 with 1 Axes>"
            ],
            "image/png": "[encoded data removed]"
          },
          "metadata": {
            "needs_background": "light"
          }
        }
      ]
    },
    {
      "cell_type": "markdown",
      "source": [
        "### **my own example 32**"
      ],
      "metadata": {
        "id": "_9IlgIAylN4O"
      }
    },
    {
      "cell_type": "code",
      "source": [
        "my_integer = 50.555\n",
        "type(my_integer)\n",
        "int(my_integer)"
      ],
      "metadata": {
        "colab": {
          "base_uri": "https://localhost:8080/"
        },
        "id": "tlgjS5WycYeZ",
        "outputId": "479dbc7a-c54c-4519-f9a3-188640777507"
      },
      "execution_count": null,
      "outputs": [
        {
          "output_type": "execute_result",
          "data": {
            "text/plain": [
              "50"
            ]
          },
          "metadata": {},
          "execution_count": 26
        }
      ]
    },
    {
      "cell_type": "markdown",
      "source": [
        "### **my own example 33**"
      ],
      "metadata": {
        "id": "ppNJtHe6lPuP"
      }
    },
    {
      "cell_type": "code",
      "source": [
        "a, b, c = 5, 3.2, \"Hello\"\n",
        "\n",
        "print (a)\n",
        "print (b)\n",
        "print (c)\n"
      ],
      "metadata": {
        "colab": {
          "base_uri": "https://localhost:8080/"
        },
        "id": "NMFWcYPBdFyD",
        "outputId": "0c06f14d-4ec5-4e28-b3ca-4cfbb990f7f5"
      },
      "execution_count": null,
      "outputs": [
        {
          "output_type": "stream",
          "name": "stdout",
          "text": [
            "5\n",
            "3.2\n",
            "Hello\n"
          ]
        }
      ]
    },
    {
      "cell_type": "markdown",
      "source": [
        "### **my own example 34**"
      ],
      "metadata": {
        "id": "JOGMr6CnlRrh"
      }
    },
    {
      "cell_type": "code",
      "source": [
        "a = 10\n",
        "\n",
        "print(type(a))\n",
        "\n",
        "print(type(6.0))\n",
        "\n",
        "c = 7 + 4j\n",
        "print(c + 5)\n",
        "\n",
        "print(isinstance(c, complex))"
      ],
      "metadata": {
        "colab": {
          "base_uri": "https://localhost:8080/"
        },
        "id": "uarcAlUIdl26",
        "outputId": "03a951b7-8c91-4b49-f988-e0dfb0aa2b61"
      },
      "execution_count": null,
      "outputs": [
        {
          "output_type": "stream",
          "name": "stdout",
          "text": [
            "<class 'int'>\n",
            "<class 'float'>\n",
            "(12+4j)\n",
            "True\n"
          ]
        }
      ]
    },
    {
      "cell_type": "markdown",
      "source": [
        "### **my own example 35**"
      ],
      "metadata": {
        "id": "MujRwaxblT9b"
      }
    },
    {
      "cell_type": "code",
      "source": [
        "one = 1\n",
        "print(one)"
      ],
      "metadata": {
        "colab": {
          "base_uri": "https://localhost:8080/"
        },
        "id": "i9z0eK-hgjAL",
        "outputId": "249c3582-2902-4c60-bc85-6aac17abe1c8"
      },
      "execution_count": null,
      "outputs": [
        {
          "output_type": "stream",
          "name": "stdout",
          "text": [
            "1\n"
          ]
        }
      ]
    },
    {
      "cell_type": "markdown",
      "source": [
        "### **my own example 36**"
      ],
      "metadata": {
        "id": "aFgLn69OlWAN"
      }
    },
    {
      "cell_type": "code",
      "source": [
        "my_integer = 100.5\n",
        "print(my_integer), type(my_integer)"
      ],
      "metadata": {
        "colab": {
          "base_uri": "https://localhost:8080/"
        },
        "id": "zJ5n66XfgubD",
        "outputId": "25099457-bf82-480b-e1fb-d151d515e717"
      },
      "execution_count": null,
      "outputs": [
        {
          "output_type": "stream",
          "name": "stdout",
          "text": [
            "100.5\n"
          ]
        },
        {
          "output_type": "execute_result",
          "data": {
            "text/plain": [
              "(None, float)"
            ]
          },
          "metadata": {},
          "execution_count": 33
        }
      ]
    },
    {
      "cell_type": "markdown",
      "source": [
        "### **my own example 37**"
      ],
      "metadata": {
        "id": "MCEzh53vlX-h"
      }
    },
    {
      "cell_type": "code",
      "source": [
        "plt.hist(returns, bins = 30, cumulative='true')"
      ],
      "metadata": {
        "colab": {
          "base_uri": "https://localhost:8080/",
          "height": 526
        },
        "id": "8oCnp-GViaRb",
        "outputId": "b506f9c6-b0f4-4a56-b9dc-f1418b67a14c"
      },
      "execution_count": null,
      "outputs": [
        {
          "output_type": "execute_result",
          "data": {
            "text/plain": [
              "(array([[0., 0., 5., ..., 6., 6., 6.],\n",
              "        [0., 0., 5., ..., 6., 6., 6.],\n",
              "        [0., 0., 5., ..., 6., 6., 6.],\n",
              "        ...,\n",
              "        [0., 0., 6., ..., 6., 6., 6.],\n",
              "        [0., 0., 5., ..., 6., 6., 6.],\n",
              "        [0., 0., 6., ..., 6., 6., 6.]]),\n",
              " array([-0.78951103, -0.49012187, -0.1907327 ,  0.10865647,  0.40804563,\n",
              "         0.7074348 ,  1.00682396,  1.30621313,  1.6056023 ,  1.90499146,\n",
              "         2.20438063,  2.5037698 ,  2.80315896,  3.10254813,  3.40193729,\n",
              "         3.70132646,  4.00071563,  4.30010479,  4.59949396,  4.89888313,\n",
              "         5.19827229,  5.49766146,  5.79705062,  6.09643979,  6.39582896,\n",
              "         6.69521812,  6.99460729,  7.29399646,  7.59338562,  7.89277479,\n",
              "         8.19216395]),\n",
              " <a list of 1257 Lists of Patches objects>)"
            ]
          },
          "metadata": {},
          "execution_count": 21
        },
        {
          "output_type": "display_data",
          "data": {
            "text/plain": [
              "<Figure size 432x288 with 1 Axes>"
            ],
            "image/png": "[encoded data removed]"
          },
          "metadata": {
            "needs_background": "light"
          }
        }
      ]
    },
    {
      "cell_type": "markdown",
      "source": [
        "### **my own example 38**"
      ],
      "metadata": {
        "id": "0kxIwEhnnGsv"
      }
    },
    {
      "cell_type": "code",
      "source": [
        "print ([(x, y) for x in [1,2,3] for y in [3,2,1] if x != y])\n",
        "print ([str(x) + \"vs\" + str(y) for x in ['AAPL','GOOG','IBM','FB']\n",
        "                                for y in ['X','Y','Z','W'] if x != y])"
      ],
      "metadata": {
        "colab": {
          "base_uri": "https://localhost:8080/"
        },
        "id": "P0uXSB-anD7Y",
        "outputId": "fa30469f-fe0c-4fb8-d07e-934f6dfd5f12"
      },
      "execution_count": null,
      "outputs": [
        {
          "output_type": "stream",
          "name": "stdout",
          "text": [
            "[(1, 3), (1, 2), (2, 3), (2, 1), (3, 2), (3, 1)]\n",
            "['AAPLvsX', 'AAPLvsY', 'AAPLvsZ', 'AAPLvsW', 'GOOGvsX', 'GOOGvsY', 'GOOGvsZ', 'GOOGvsW', 'IBMvsX', 'IBMvsY', 'IBMvsZ', 'IBMvsW', 'FBvsX', 'FBvsY', 'FBvsZ', 'FBvsW']\n"
          ]
        }
      ]
    },
    {
      "cell_type": "markdown",
      "source": [
        "### **my own example 39**"
      ],
      "metadata": {
        "id": "4oJn9l2rnPgr"
      }
    },
    {
      "cell_type": "code",
      "source": [
        "print(list(range(10)))\n",
        "print(list(range(1,11)))\n",
        "print(list(range(1,11,2)))"
      ],
      "metadata": {
        "colab": {
          "base_uri": "https://localhost:8080/"
        },
        "id": "iq2maVjEnP9V",
        "outputId": "e1c62e3d-9093-4957-bbcd-cea939ebd9ea"
      },
      "execution_count": null,
      "outputs": [
        {
          "output_type": "stream",
          "name": "stdout",
          "text": [
            "[0, 1, 2, 3, 4, 5, 6, 7, 8, 9]\n",
            "[1, 2, 3, 4, 5, 6, 7, 8, 9, 10]\n",
            "[1, 3, 5, 7, 9]\n"
          ]
        }
      ]
    },
    {
      "cell_type": "markdown",
      "source": [
        "### **my own example 40**"
      ],
      "metadata": {
        "id": "_-0VzRqSnWL4"
      }
    },
    {
      "cell_type": "code",
      "source": [
        "def say_hi():\n",
        "    print(\"Welcome to QuantConnect\")\n",
        "say_hi()"
      ],
      "metadata": {
        "colab": {
          "base_uri": "https://localhost:8080/"
        },
        "id": "lGsWF-oAnWbw",
        "outputId": "8b5a9968-b194-43cc-da3c-788e08b2ef8a"
      },
      "execution_count": null,
      "outputs": [
        {
          "output_type": "stream",
          "name": "stdout",
          "text": [
            "Welcome to QuantConnect\n"
          ]
        }
      ]
    },
    {
      "cell_type": "markdown",
      "source": [
        "### **my own example 41**"
      ],
      "metadata": {
        "id": "alptmyrune5j"
      }
    },
    {
      "cell_type": "code",
      "source": [
        "def product(x,y):\n",
        "    return x*y\n",
        "print (product(5,4))\n",
        "\n",
        "print (product(9,10))"
      ],
      "metadata": {
        "colab": {
          "base_uri": "https://localhost:8080/"
        },
        "id": "kcbi59efnfZX",
        "outputId": "f98d2801-8a9e-4123-f8f7-49001c3bd95f"
      },
      "execution_count": null,
      "outputs": [
        {
          "output_type": "stream",
          "name": "stdout",
          "text": [
            "20\n",
            "90\n"
          ]
        }
      ]
    },
    {
      "cell_type": "markdown",
      "source": [
        "### **my own example 42**"
      ],
      "metadata": {
        "id": "fqy8dz8lnnB2"
      }
    },
    {
      "cell_type": "code",
      "source": [
        "sorted([13,9,11,7,23,1,44,25])"
      ],
      "metadata": {
        "colab": {
          "base_uri": "https://localhost:8080/"
        },
        "id": "W0znMZyHnqX2",
        "outputId": "081e1e51-1a05-444a-a131-133770022f7a"
      },
      "execution_count": null,
      "outputs": [
        {
          "output_type": "execute_result",
          "data": {
            "text/plain": [
              "[1, 7, 9, 11, 13, 23, 25, 44]"
            ]
          },
          "metadata": {},
          "execution_count": 78
        }
      ]
    },
    {
      "cell_type": "markdown",
      "source": [
        "### **my own example 43**"
      ],
      "metadata": {
        "id": "Y9F8ZE0in4f2"
      }
    },
    {
      "cell_type": "code",
      "source": [
        "price_list = [('AAPL', 144.09), ('GOOGL', 911.71), ('MSFT', 69), ('FB', 150), ('WMT', 75.32)]\n",
        "sorted(price_list, key = lambda x: x[1])"
      ],
      "metadata": {
        "colab": {
          "base_uri": "https://localhost:8080/"
        },
        "id": "Mi35429ln4C2",
        "outputId": "309267e4-ee1c-4fbe-eaf8-119baa82b08d"
      },
      "execution_count": null,
      "outputs": [
        {
          "output_type": "execute_result",
          "data": {
            "text/plain": [
              "[('MSFT', 69),\n",
              " ('WMT', 75.32),\n",
              " ('AAPL', 144.09),\n",
              " ('FB', 150),\n",
              " ('GOOGL', 911.71)]"
            ]
          },
          "metadata": {},
          "execution_count": 79
        }
      ]
    },
    {
      "cell_type": "markdown",
      "source": [
        "### **my own example 44**"
      ],
      "metadata": {
        "id": "HTa_xiSQoOpi"
      }
    },
    {
      "cell_type": "code",
      "source": [
        "import numpy as np\n",
        "Precio = [66,239,908,673,44086]\n",
        "Precio_array = np.array(Precio)\n",
        "print (Precio_array, type(Precio_array))"
      ],
      "metadata": {
        "colab": {
          "base_uri": "https://localhost:8080/"
        },
        "id": "zv06KGrjokrn",
        "outputId": "73b02bb4-b25b-4ed5-df2b-b6974e4a512d"
      },
      "execution_count": null,
      "outputs": [
        {
          "output_type": "stream",
          "name": "stdout",
          "text": [
            "[   66   239   908   673 44086] <class 'numpy.ndarray'>\n"
          ]
        }
      ]
    },
    {
      "cell_type": "code",
      "source": [
        "### **my own example 45**"
      ],
      "metadata": {
        "id": "6MYd4FyzotuB"
      },
      "execution_count": null,
      "outputs": []
    },
    {
      "cell_type": "code",
      "source": [
        "arreglo = np.array([[69,420], [222,456]])\n",
        "print (arreglo, type(arreglo))\n",
        "print (arreglo.shape)"
      ],
      "metadata": {
        "colab": {
          "base_uri": "https://localhost:8080/"
        },
        "id": "Z_f7wBPjoe30",
        "outputId": "08566a58-a324-4622-cdc8-123011f3d0cc"
      },
      "execution_count": null,
      "outputs": [
        {
          "output_type": "stream",
          "name": "stdout",
          "text": [
            "[[ 69 420]\n",
            " [222 456]] <class 'numpy.ndarray'>\n",
            "(2, 2)\n"
          ]
        }
      ]
    },
    {
      "cell_type": "markdown",
      "source": [
        "### **my own example 46**"
      ],
      "metadata": {
        "id": "768FRQEloupW"
      }
    },
    {
      "cell_type": "code",
      "source": [
        "price_list = [143.73, 145.83, 143.68, 144.02, 143.5, 142.62]\n",
        "price_array = np.array(price_list)\n",
        "print (price_array, type(price_array))"
      ],
      "metadata": {
        "colab": {
          "base_uri": "https://localhost:8080/"
        },
        "id": "Mteo7DsAoJxK",
        "outputId": "52a93f40-97aa-4c47-c5a6-473d4833eb1d"
      },
      "execution_count": null,
      "outputs": [
        {
          "output_type": "stream",
          "name": "stdout",
          "text": [
            "[143.73 145.83 143.68 144.02 143.5  142.62] <class 'numpy.ndarray'>\n"
          ]
        }
      ]
    },
    {
      "cell_type": "markdown",
      "source": [
        "### **my own example 47**"
      ],
      "metadata": {
        "id": "oqXXQA9boPCO"
      }
    },
    {
      "cell_type": "code",
      "source": [
        "Ar = np.array([[1,2], [3,4]])\n",
        "print (Ar, type(Ar))"
      ],
      "metadata": {
        "colab": {
          "base_uri": "https://localhost:8080/"
        },
        "id": "0nUDVeGWoKUG",
        "outputId": "f65dadd5-0816-42db-e38d-cb7a728f2df7"
      },
      "execution_count": null,
      "outputs": [
        {
          "output_type": "stream",
          "name": "stdout",
          "text": [
            "[[1 3]\n",
            " [2 4]] <class 'numpy.ndarray'>\n"
          ]
        }
      ]
    },
    {
      "cell_type": "markdown",
      "source": [
        "### **my own example 48**"
      ],
      "metadata": {
        "id": "-PvPBNpIoQ14"
      }
    },
    {
      "cell_type": "code",
      "source": [
        "print (Ar.shape)\n",
        "print (Ar[0])\n",
        "print (Ar[1])\n",
        "\n",
        "print ('First column:', Ar[:,0])\n",
        "print ('Second column:', Ar[:,1])"
      ],
      "metadata": {
        "colab": {
          "base_uri": "https://localhost:8080/"
        },
        "id": "pXN8JdgcoKiy",
        "outputId": "eae23dd9-de2c-4fea-c7b3-e1efa39ba3d8"
      },
      "execution_count": null,
      "outputs": [
        {
          "output_type": "stream",
          "name": "stdout",
          "text": [
            "(2, 2)\n",
            "[1 3]\n",
            "[2 4]\n",
            "First column: [1 2]\n",
            "Second column: [3 4]\n"
          ]
        }
      ]
    },
    {
      "cell_type": "markdown",
      "source": [
        "### **my own example 49**"
      ],
      "metadata": {
        "id": "0p8Jt0T0o5SU"
      }
    },
    {
      "cell_type": "code",
      "source": [
        "import pandas as pd\n",
        "Precio = [12,345,678,91011,121314]\n",
        "a = pd.Series(Precio)\n",
        "print (a)"
      ],
      "metadata": {
        "colab": {
          "base_uri": "https://localhost:8080/"
        },
        "id": "_mr9XXOzpLfz",
        "outputId": "b2b82f66-1d58-4d83-d389-43d0bd6280d1"
      },
      "execution_count": null,
      "outputs": [
        {
          "output_type": "stream",
          "name": "stdout",
          "text": [
            "0        12\n",
            "1       345\n",
            "2       678\n",
            "3     91011\n",
            "4    121314\n",
            "dtype: int64\n"
          ]
        }
      ]
    },
    {
      "cell_type": "markdown",
      "source": [
        "### **my own example 50**"
      ],
      "metadata": {
        "id": "N6B_7BGHpph0"
      }
    },
    {
      "cell_type": "code",
      "source": [
        "a = pd.Series(Precio, index = ['primero', 'segundo', 'tercero', 'cuarto', 'quinto'])\n",
        "print (a)"
      ],
      "metadata": {
        "colab": {
          "base_uri": "https://localhost:8080/"
        },
        "id": "GvWl_08qpHbY",
        "outputId": "94918ce8-27ac-4db6-8f9b-59119aa6ef3b"
      },
      "execution_count": null,
      "outputs": [
        {
          "output_type": "stream",
          "name": "stdout",
          "text": [
            "primero       66\n",
            "segundo      239\n",
            "tercero      908\n",
            "cuarto       673\n",
            "quinto     44086\n",
            "dtype: int64\n"
          ]
        }
      ]
    },
    {
      "cell_type": "markdown",
      "source": [
        "### **my own example 51**"
      ],
      "metadata": {
        "id": "h9GhxEYrprGK"
      }
    },
    {
      "cell_type": "code",
      "source": [
        "price = [143.73, 145.83, 143.68, 144.02, 143.5, 142.62]\n",
        "s = pd.Series(price, index = ['a', 'b', 'c', 'd', 'e', 'f'])\n",
        "print (s)"
      ],
      "metadata": {
        "colab": {
          "base_uri": "https://localhost:8080/"
        },
        "id": "ggcSnSzqpEBa",
        "outputId": "bc823873-cae4-4b9d-a3f8-b904ec179024"
      },
      "execution_count": null,
      "outputs": [
        {
          "output_type": "stream",
          "name": "stdout",
          "text": [
            "a    143.73\n",
            "b    145.83\n",
            "c    143.68\n",
            "d    144.02\n",
            "e    143.50\n",
            "f    142.62\n",
            "dtype: float64\n"
          ]
        }
      ]
    },
    {
      "cell_type": "markdown",
      "source": [
        "### **my own example 52**"
      ],
      "metadata": {
        "id": "sx6mQ2s1ps01"
      }
    },
    {
      "cell_type": "code",
      "source": [
        "a.index = [5,4,3,2,1]\n",
        "print (a)\n",
        "print (a[3:])\n",
        "print (a[:-1])"
      ],
      "metadata": {
        "colab": {
          "base_uri": "https://localhost:8080/"
        },
        "id": "syR9nqISpArC",
        "outputId": "ddf9a1b7-95d6-4b50-dbf4-793af6781f5e"
      },
      "execution_count": null,
      "outputs": [
        {
          "output_type": "stream",
          "name": "stdout",
          "text": [
            "5       66\n",
            "4      239\n",
            "3      908\n",
            "2      673\n",
            "1    44086\n",
            "dtype: int64\n",
            "2      673\n",
            "1    44086\n",
            "dtype: int64\n",
            "5     66\n",
            "4    239\n",
            "3    908\n",
            "2    673\n",
            "dtype: int64\n"
          ]
        }
      ]
    },
    {
      "cell_type": "markdown",
      "source": [
        "### **my own example 53**"
      ],
      "metadata": {
        "id": "bvc2DrKjpumT"
      }
    },
    {
      "cell_type": "code",
      "source": [
        "print (a[1])\n",
        "a[1] =123456789\n",
        "print (a)"
      ],
      "metadata": {
        "colab": {
          "base_uri": "https://localhost:8080/"
        },
        "id": "j5G4G1Eco5kc",
        "outputId": "fe97577a-8f88-479e-dd63-ea898e5ddd41"
      },
      "execution_count": null,
      "outputs": [
        {
          "output_type": "stream",
          "name": "stdout",
          "text": [
            "345\n",
            "0           12\n",
            "1    123456789\n",
            "2          678\n",
            "3        91011\n",
            "4       121314\n",
            "dtype: int64\n"
          ]
        }
      ]
    },
    {
      "cell_type": "markdown",
      "source": [
        "### **my own example 54**"
      ],
      "metadata": {
        "id": "rZNybfMZpxAl"
      }
    },
    {
      "cell_type": "code",
      "source": [
        "a = pd.Series(Precio, name = 'precio de FICHAJE')\n",
        "print (a)\n",
        "print (a.name)"
      ],
      "metadata": {
        "colab": {
          "base_uri": "https://localhost:8080/"
        },
        "id": "lyaNi8d_pyT7",
        "outputId": "fa1a3075-7be2-4d78-9080-c5d8603d1cf1"
      },
      "execution_count": null,
      "outputs": [
        {
          "output_type": "stream",
          "name": "stdout",
          "text": [
            "0        12\n",
            "1       345\n",
            "2       678\n",
            "3     91011\n",
            "4    121314\n",
            "Name: precio de FICHAJE, dtype: int64\n",
            "precio de FICHAJE\n"
          ]
        }
      ]
    },
    {
      "cell_type": "markdown",
      "source": [
        "### **my own example 55**"
      ],
      "metadata": {
        "id": "3kc_pPo2qIVa"
      }
    },
    {
      "cell_type": "code",
      "source": [
        "print (a.describe())"
      ],
      "metadata": {
        "colab": {
          "base_uri": "https://localhost:8080/"
        },
        "id": "ST_qBTmlqItR",
        "outputId": "875f4396-ac52-404f-e81a-8d83837c7dc1"
      },
      "execution_count": null,
      "outputs": [
        {
          "output_type": "stream",
          "name": "stdout",
          "text": [
            "count         5.000000\n",
            "mean      42672.000000\n",
            "std       58941.007902\n",
            "min          12.000000\n",
            "25%         345.000000\n",
            "50%         678.000000\n",
            "75%       91011.000000\n",
            "max      121314.000000\n",
            "Name: precio de FICHAJE, dtype: float64\n"
          ]
        }
      ]
    },
    {
      "cell_type": "markdown",
      "source": [
        "### **my own example 55**"
      ],
      "metadata": {
        "id": "sUc6xW2BqNd3"
      }
    },
    {
      "cell_type": "code",
      "source": [
        "time_index = pd.date_range('2017-01-01', periods = len(s), freq = 'D')\n",
        "print (time_index)\n",
        "s.index = time_index\n",
        "print (s)"
      ],
      "metadata": {
        "colab": {
          "base_uri": "https://localhost:8080/"
        },
        "id": "pkcK8GEftxV0",
        "outputId": "68a3fa0c-d1e7-4a19-b2fe-a15e0b12d411"
      },
      "execution_count": null,
      "outputs": [
        {
          "output_type": "stream",
          "name": "stdout",
          "text": [
            "DatetimeIndex(['2017-01-01', '2017-01-02', '2017-01-03', '2017-01-04',\n",
            "               '2017-01-05', '2017-01-06'],\n",
            "              dtype='datetime64[ns]', freq='D')\n",
            "2017-01-01    143.73\n",
            "2017-01-02    145.83\n",
            "2017-01-03    143.68\n",
            "2017-01-04    144.02\n",
            "2017-01-05    143.50\n",
            "2017-01-06    142.62\n",
            "Freq: D, dtype: float64\n"
          ]
        }
      ]
    },
    {
      "cell_type": "markdown",
      "source": [
        "### **my own example 56**"
      ],
      "metadata": {
        "id": "5s8oPm15qONp"
      }
    },
    {
      "cell_type": "code",
      "source": [
        "dict = {'ecopetrol': [12381317,  21323112, 142123121.73, 14345344.18, 14123123.77],\n",
        "        'faber castell': [8953628.7,  912342341.71, 9023416.69, 918.7685659, 92623.99],\n",
        "        'offi esco':  [33123123.58, 15123.121267, 123.36, 152131232.94, 123213.49]}\n",
        "dates = pd.date_range('2017-07-03', periods = 5, freq = 'A')\n",
        "df = pd.DataFrame(dict, index = dates)\n",
        "print (df)"
      ],
      "metadata": {
        "colab": {
          "base_uri": "https://localhost:8080/"
        },
        "id": "B6ABw_Hat36-",
        "outputId": "f5e080aa-3d36-44d3-c182-90cce0b351d9"
      },
      "execution_count": null,
      "outputs": [
        {
          "output_type": "stream",
          "name": "stdout",
          "text": [
            "               ecopetrol  faber castell     offi esco\n",
            "2017-12-31  1.238132e+07   8.953629e+06  3.312312e+07\n",
            "2018-12-31  2.132311e+07   9.123423e+08  1.512312e+04\n",
            "2019-12-31  1.421231e+08   9.023417e+06  1.233600e+02\n",
            "2020-12-31  1.434534e+07   9.187686e+02  1.521312e+08\n",
            "2021-12-31  1.412312e+07   9.262399e+04  1.232135e+05\n"
          ]
        }
      ]
    },
    {
      "cell_type": "code",
      "source": [
        "dict = {'AAPL': [143.5,  144.09, 142.73, 144.18, 143.77],\n",
        "        'GOOG': [898.7,  911.71, 906.69, 918.59, 926.99],\n",
        "        'IBM':  [155.58, 153.67, 152.36, 152.94, 153.49]}\n",
        "dates = pd.date_range('2017-07-03', periods = 5, freq = 'A')\n",
        "df = pd.DataFrame(dict, index = dates)\n",
        "print (df)"
      ],
      "metadata": {
        "colab": {
          "base_uri": "https://localhost:8080/"
        },
        "id": "gWwLJJBVuE01",
        "outputId": "376503c8-a4ac-4032-da10-940299069d55"
      },
      "execution_count": null,
      "outputs": [
        {
          "output_type": "stream",
          "name": "stdout",
          "text": [
            "              AAPL    GOOG     IBM\n",
            "2017-07-03  143.50  898.70  155.58\n",
            "2017-07-04  144.09  911.71  153.67\n",
            "2017-07-05  142.73  906.69  152.36\n",
            "2017-07-06  144.18  918.59  152.94\n",
            "2017-07-07  143.77  926.99  153.49\n"
          ]
        }
      ]
    },
    {
      "cell_type": "markdown",
      "source": [
        "### **my own example 54**"
      ],
      "metadata": {
        "id": "Kfeqci91qOyj"
      }
    },
    {
      "cell_type": "code",
      "source": [
        "for x in [1,2,3,4,5,6,7,8,9,10]: \n",
        "  print (x)"
      ],
      "metadata": {
        "colab": {
          "base_uri": "https://localhost:8080/"
        },
        "id": "Nfz5tNwWuIQl",
        "outputId": "ac212bae-ebcd-4fad-c552-548222931408"
      },
      "execution_count": null,
      "outputs": [
        {
          "output_type": "stream",
          "name": "stdout",
          "text": [
            "1\n",
            "2\n",
            "3\n",
            "4\n",
            "5\n",
            "6\n",
            "7\n",
            "8\n",
            "9\n",
            "10\n"
          ]
        }
      ]
    },
    {
      "cell_type": "markdown",
      "source": [
        "### **my own example 57**"
      ],
      "metadata": {
        "id": "RixPR1phqPwl"
      }
    },
    {
      "cell_type": "code",
      "source": [
        "cuadrado = []\n",
        "for x in [12,13,14,15,16]:\n",
        "    cuadrado.append(x**2)\n",
        "print (cuadrado)"
      ],
      "metadata": {
        "colab": {
          "base_uri": "https://localhost:8080/"
        },
        "id": "HqyKsRFpuTYJ",
        "outputId": "0ef076f6-40f0-45fc-da66-91e821da1457"
      },
      "execution_count": null,
      "outputs": [
        {
          "output_type": "stream",
          "name": "stdout",
          "text": [
            "[144, 169, 196, 225, 256]\n"
          ]
        }
      ]
    },
    {
      "cell_type": "markdown",
      "source": [
        "### **my own example 58**"
      ],
      "metadata": {
        "id": "-NGf9j66qQAH"
      }
    },
    {
      "cell_type": "code",
      "source": [
        "stocks = ['AAPL','GOOG','IBM','FB','F','V', 'G', 'GE']\n",
        "for stock in stocks:\n",
        "    if stock == 'FB': continue\n",
        "    print (stock)\n",
        "\n",
        "    squares = []\n",
        "for i in [3,6,9,12,15]:\n",
        "    squares.append(i**3)\n",
        "print (squares)"
      ],
      "metadata": {
        "colab": {
          "base_uri": "https://localhost:8080/"
        },
        "id": "53YaqdFsuUqr",
        "outputId": "cdebd6e2-5c90-49bd-bd76-a3fefe967cf1"
      },
      "execution_count": null,
      "outputs": [
        {
          "output_type": "stream",
          "name": "stdout",
          "text": [
            "AAPL\n",
            "GOOG\n",
            "IBM\n",
            "F\n",
            "V\n",
            "G\n",
            "GE\n",
            "[27, 216, 729, 1728, 3375]\n"
          ]
        }
      ]
    },
    {
      "cell_type": "markdown",
      "source": [
        "### **my own example 59**"
      ],
      "metadata": {
        "id": "_fAifwauqQbP"
      }
    },
    {
      "cell_type": "code",
      "source": [
        "numeros = [69,70,71,72,73,74]\n",
        "cuadrados = [z**2 for z in numeros]\n",
        "print (cuadrados)"
      ],
      "metadata": {
        "colab": {
          "base_uri": "https://localhost:8080/"
        },
        "id": "M4jYLbAjum7f",
        "outputId": "344a9a25-e4f8-4085-8d04-7091e7062bba"
      },
      "execution_count": null,
      "outputs": [
        {
          "output_type": "stream",
          "name": "stdout",
          "text": [
            "[4761, 4900, 5041, 5184, 5329, 5476]\n"
          ]
        }
      ]
    },
    {
      "cell_type": "markdown",
      "source": [
        "### **my own example 60**"
      ],
      "metadata": {
        "id": "NdohAya9qQuv"
      }
    },
    {
      "cell_type": "code",
      "source": [
        "precio_articulos = [('manzana', 1.08), ('piña', 1.78), ('queso',4.50 ),('pan', 0.55), ('leche',2.24 ), ('cebolla',0.74 )]\n",
        "sorted(precio_articulos, key = lambda x: x[1])"
      ],
      "metadata": {
        "colab": {
          "base_uri": "https://localhost:8080/"
        },
        "id": "D3pm77T8u6JV",
        "outputId": "e962a395-938d-4fb6-dbc0-d6284aaea28c"
      },
      "execution_count": null,
      "outputs": [
        {
          "output_type": "execute_result",
          "data": {
            "text/plain": [
              "[('pan', 0.55),\n",
              " ('cebolla', 0.74),\n",
              " ('manzana', 1.08),\n",
              " ('piña', 1.78),\n",
              " ('leche', 2.24),\n",
              " ('queso', 4.5)]"
            ]
          },
          "metadata": {},
          "execution_count": 119
        }
      ]
    },
    {
      "cell_type": "markdown",
      "source": [
        "### **my own example 61**"
      ],
      "metadata": {
        "id": "f_ZwKnQGqZpJ"
      }
    },
    {
      "cell_type": "code",
      "source": [
        "price_list = [('AAPL', 144.09), ('GOOGL', 911.71), ('MSFT', 69), ('FB', 150), ('WMT', 75.32)]\n",
        "sorted(price_list, key = lambda x: x[1], reverse = True)"
      ],
      "metadata": {
        "colab": {
          "base_uri": "https://localhost:8080/"
        },
        "id": "q2JLOm8DvKXc",
        "outputId": "27425cb9-58d1-4eda-aa53-7657847ca288"
      },
      "execution_count": null,
      "outputs": [
        {
          "output_type": "execute_result",
          "data": {
            "text/plain": [
              "[('GOOGL', 911.71),\n",
              " ('FB', 150),\n",
              " ('AAPL', 144.09),\n",
              " ('WMT', 75.32),\n",
              " ('MSFT', 69)]"
            ]
          },
          "metadata": {},
          "execution_count": 120
        }
      ]
    },
    {
      "cell_type": "markdown",
      "source": [
        "### **my own example 62**"
      ],
      "metadata": {
        "id": "uN2bDeXaqanr"
      }
    },
    {
      "cell_type": "code",
      "source": [
        "R = np.random.normal(0, 50, 100)\n",
        "X = np.random.normal(0, 10, 100)"
      ],
      "metadata": {
        "id": "jiYnXbv5vVWD"
      },
      "execution_count": null,
      "outputs": []
    },
    {
      "cell_type": "markdown",
      "source": [
        "### **my own example 63**"
      ],
      "metadata": {
        "id": "FETtA7s5qb9X"
      }
    },
    {
      "cell_type": "code",
      "source": [
        "plt.plot(R)"
      ],
      "metadata": {
        "colab": {
          "base_uri": "https://localhost:8080/",
          "height": 282
        },
        "id": "b-OcoVv8veby",
        "outputId": "2781bd62-e47c-408f-9aff-71f738e18b00"
      },
      "execution_count": null,
      "outputs": [
        {
          "output_type": "execute_result",
          "data": {
            "text/plain": [
              "[<matplotlib.lines.Line2D at 0x7f3fefc3e190>]"
            ]
          },
          "metadata": {},
          "execution_count": 133
        },
        {
          "output_type": "display_data",
          "data": {
            "text/plain": [
              "<Figure size 432x288 with 1 Axes>"
            ],
            "image/png": "[encoded data removed]"
          },
          "metadata": {
            "needs_background": "light"
          }
        }
      ]
    },
    {
      "cell_type": "markdown",
      "source": [
        "### **my own example 64**"
      ],
      "metadata": {
        "id": "yGedJimDqerP"
      }
    },
    {
      "cell_type": "code",
      "source": [
        "plt.plot(X)"
      ],
      "metadata": {
        "colab": {
          "base_uri": "https://localhost:8080/",
          "height": 282
        },
        "id": "LvA2DoNHwDPV",
        "outputId": "1e247394-8548-4a41-cb2c-9d47c2d9a266"
      },
      "execution_count": null,
      "outputs": [
        {
          "output_type": "execute_result",
          "data": {
            "text/plain": [
              "[<matplotlib.lines.Line2D at 0x7f3fef794210>]"
            ]
          },
          "metadata": {},
          "execution_count": 134
        },
        {
          "output_type": "display_data",
          "data": {
            "text/plain": [
              "<Figure size 432x288 with 1 Axes>"
            ],
            "image/png": "[encoded data removed]"
          },
          "metadata": {
            "needs_background": "light"
          }
        }
      ]
    },
    {
      "cell_type": "markdown",
      "source": [
        "### **my own example 65**"
      ],
      "metadata": {
        "id": "9Rpyl5Whqgcl"
      }
    },
    {
      "cell_type": "code",
      "source": [
        "Y = np.random.normal(1, 2, 100)\n",
        "Y2 = np.random.normal(3, 6, 300)\n",
        "\n",
        "plt.plot(Y);\n",
        "plt.plot(Y2);\n",
        "plt.xlabel('fecha')\n",
        "plt.ylabel('numero de goles de luis diaz')\n",
        "plt.legend(['Y', 'Y2']);"
      ],
      "metadata": {
        "colab": {
          "base_uri": "https://localhost:8080/",
          "height": 283
        },
        "id": "_JvMX_j9wIPx",
        "outputId": "78a621b1-5d65-4ca3-b485-4c0d25b12261"
      },
      "execution_count": null,
      "outputs": [
        {
          "output_type": "display_data",
          "data": {
            "text/plain": [
              "<Figure size 432x288 with 1 Axes>"
            ],
            "image/png": "[encoded data removed]"
          },
          "metadata": {
            "needs_background": "light"
          }
        }
      ]
    },
    {
      "cell_type": "markdown",
      "source": [
        "### **my own example 66**"
      ],
      "metadata": {
        "id": "QIKFsJjUqjM3"
      }
    },
    {
      "cell_type": "code",
      "source": [
        "print ('suma: ', 245463 + 343876)\n",
        "print ('resta: ', 1256 - 45662)\n",
        "print ('multiplicacion: ', 2342 * 56358)\n",
        "print ('div: ', 102894 / 17892)\n",
        "print ('esponente: ', 1234567**89)"
      ],
      "metadata": {
        "colab": {
          "base_uri": "https://localhost:8080/"
        },
        "id": "mXRwEVeowajV",
        "outputId": "6563cfa1-e04f-4168-fdc0-5692e793f8bc"
      },
      "execution_count": null,
      "outputs": [
        {
          "output_type": "stream",
          "name": "stdout",
          "text": [
            "suma:  589339\n",
            "resta:  -44406\n",
            "multiplicacion:  131990436\n",
            "div:  5.75083836351442\n",
            "esponente:  139574185988226216352411677967079384654819840770263154148901015711434587555916221871855053939370772085656915237689603767083349991793713346471091572628494106076146419389211087459209170823939332677859093756734470172351895079430772488109105692648444480028380122417140932569432824316430008740958025053716735421344729410520681559715479472541631321425013768978692403188995380725532383634472359562908542469547971146457062422356845701571795811721146126639734809904577967012608961528997012178537266420111446716001493476975934877110973383995456863730247\n"
          ]
        }
      ]
    },
    {
      "cell_type": "markdown",
      "source": [
        "### **my own example 67**"
      ],
      "metadata": {
        "id": "Q0jWcP7gqlLK"
      }
    },
    {
      "cell_type": "code",
      "source": [
        "first_integer = 10\n",
        "second_integer = 20\n",
        "third_integer = 30\n",
        "print (first_integer * second_integer * third_integer)"
      ],
      "metadata": {
        "colab": {
          "base_uri": "https://localhost:8080/"
        },
        "id": "6E9II0NEworn",
        "outputId": "ee9b43c1-a916-451a-b075-43eddaae98cc"
      },
      "execution_count": null,
      "outputs": [
        {
          "output_type": "stream",
          "name": "stdout",
          "text": [
            "6000\n"
          ]
        }
      ]
    },
    {
      "cell_type": "markdown",
      "source": [
        "### **my own example 68**"
      ],
      "metadata": {
        "id": "bsW3gIxqqmjg"
      }
    },
    {
      "cell_type": "code",
      "source": [
        "print ('Addition: ', 7 + 10)\n",
        "print ('Subtraction: ', 8 - 4)\n",
        "print ('Multiplication: ', 6 * 5)\n",
        "print ('Division: ', 1.5 / 2)\n",
        "print ('Exponentiation: ', 3**9)"
      ],
      "metadata": {
        "colab": {
          "base_uri": "https://localhost:8080/"
        },
        "id": "9ZYhBbeow4jU",
        "outputId": "528e34e7-6259-4842-c9fb-100fc5922551"
      },
      "execution_count": null,
      "outputs": [
        {
          "output_type": "stream",
          "name": "stdout",
          "text": [
            "Addition:  17\n",
            "Subtraction:  4\n",
            "Multiplication:  30\n",
            "Division:  0.75\n",
            "Exponentiation:  19683\n"
          ]
        }
      ]
    },
    {
      "cell_type": "markdown",
      "source": [
        "### **my own example 69**"
      ],
      "metadata": {
        "id": "g-wxwiVdqn4F"
      }
    },
    {
      "cell_type": "code",
      "source": [
        "print ('Modulo: ', 5350 % 69)"
      ],
      "metadata": {
        "colab": {
          "base_uri": "https://localhost:8080/"
        },
        "id": "5t7JU6T_xEf-",
        "outputId": "5626e339-637c-47c6-89e3-6cec663f45f4"
      },
      "execution_count": null,
      "outputs": [
        {
          "output_type": "stream",
          "name": "stdout",
          "text": [
            "Modulo:  37\n"
          ]
        }
      ]
    },
    {
      "cell_type": "markdown",
      "source": [
        "### **my own example 70**"
      ],
      "metadata": {
        "id": "HQL0e6FYqpjX"
      }
    },
    {
      "cell_type": "code",
      "source": [
        "lista = ['chocolate', 'vainilla', 'fresa', 'brownie', 'frutos rojos', 'arequipe', 'piña', 'melocoton']\n",
        "print (lista[2:4])\n",
        "print (lista[1:])\n",
        "print (lista[:4])\n",
        "print (lista[-1])\n",
        "print (lista[0:7:2])\n",
        "print (lista[::2])\n",
        "print (lista[:])\n",
        "print (lista[::-1])"
      ],
      "metadata": {
        "colab": {
          "base_uri": "https://localhost:8080/"
        },
        "id": "tLJQNzBFxNao",
        "outputId": "cd7b9cff-2186-49f5-962a-159731c75313"
      },
      "execution_count": null,
      "outputs": [
        {
          "output_type": "stream",
          "name": "stdout",
          "text": [
            "['fresa', 'brownie']\n",
            "['vainilla', 'fresa', 'brownie', 'frutos rojos', 'arequipe', 'piña', 'melocoton']\n",
            "['chocolate', 'vainilla', 'fresa', 'brownie']\n",
            "melocoton\n",
            "['chocolate', 'fresa', 'frutos rojos', 'piña']\n",
            "['chocolate', 'fresa', 'frutos rojos', 'piña']\n",
            "['chocolate', 'vainilla', 'fresa', 'brownie', 'frutos rojos', 'arequipe', 'piña', 'melocoton']\n",
            "['melocoton', 'piña', 'arequipe', 'frutos rojos', 'brownie', 'fresa', 'vainilla', 'chocolate']\n"
          ]
        }
      ]
    },
    {
      "cell_type": "markdown",
      "source": [
        "### **my own example 71**"
      ],
      "metadata": {
        "id": "9pmec1drqsGB"
      }
    },
    {
      "cell_type": "code",
      "source": [
        "x = 69\n",
        "lista = range(x)\n",
        "print (lista)\n",
        "\n",
        "uno = -10\n",
        "dos = 44\n",
        "lista = range(uno, dos)\n",
        "print (lista)"
      ],
      "metadata": {
        "colab": {
          "base_uri": "https://localhost:8080/"
        },
        "id": "OwsKrXloxgSI",
        "outputId": "478f0718-f2cb-48a8-d3fa-e9df9e7206ca"
      },
      "execution_count": null,
      "outputs": [
        {
          "output_type": "stream",
          "name": "stdout",
          "text": [
            "range(0, 69)\n",
            "range(-10, 44)\n"
          ]
        }
      ]
    },
    {
      "cell_type": "markdown",
      "source": [
        "### **my own example 72**"
      ],
      "metadata": {
        "id": "fyRYhswXqtg_"
      }
    },
    {
      "cell_type": "code",
      "source": [
        "print (bool(\"Lucho\"))\n",
        "\n",
        "print (bool('123'))\n",
        "\n",
        "print (bool([1,82, 4]))"
      ],
      "metadata": {
        "colab": {
          "base_uri": "https://localhost:8080/"
        },
        "id": "SvTbxy5mxoOj",
        "outputId": "2f934bfd-c416-4a04-e7e1-cd10e71ab9d9"
      },
      "execution_count": null,
      "outputs": [
        {
          "output_type": "stream",
          "name": "stdout",
          "text": [
            "True\n",
            "True\n",
            "True\n"
          ]
        }
      ]
    },
    {
      "cell_type": "markdown",
      "source": [
        "### **my own example 73**"
      ],
      "metadata": {
        "id": "leqhQzkOqu-9"
      }
    },
    {
      "cell_type": "code",
      "source": [
        "mercado = {'papa', 'yuca', 'arracacha', 'aguacate', 'platano', 'cerdo', 'carne', 'pollo', 'cerdo', 'maiz'} \n",
        "verduras = {'papa','yuca','arracacha','maiz'} \n",
        "nuevalista = set()\n",
        "for verdura in mercado:\n",
        "    if verdura in verduras:\n",
        "        \n",
        "        nuevalista.add(verdura)\n",
        "        \n",
        "print (nuevalista)"
      ],
      "metadata": {
        "colab": {
          "base_uri": "https://localhost:8080/"
        },
        "id": "27daQzGQxz5k",
        "outputId": "5372bc31-f4da-488b-af39-de242bc72427"
      },
      "execution_count": null,
      "outputs": [
        {
          "output_type": "stream",
          "name": "stdout",
          "text": [
            "{'maiz', 'papa', 'yuca', 'arracacha'}\n"
          ]
        }
      ]
    },
    {
      "cell_type": "markdown",
      "source": [
        "### **my own example 74**"
      ],
      "metadata": {
        "id": "FKNw--ZZqwdR"
      }
    },
    {
      "cell_type": "code",
      "source": [
        "def calculate_area(length, width):\n",
        "    \"\"\" Calculates the area of a rectangle \"\"\"\n",
        "    return length * width\n",
        "\n",
        "l = 45689\n",
        "w = 12345\n",
        "print ('Area: ', calculate_area(l, w))\n",
        "print ('Length: ', l)\n",
        "print ('Width: ', w)"
      ],
      "metadata": {
        "colab": {
          "base_uri": "https://localhost:8080/"
        },
        "id": "O0AcQizlyiuf",
        "outputId": "d372458a-6998-4d59-a980-66c4ccf5b546"
      },
      "execution_count": null,
      "outputs": [
        {
          "output_type": "stream",
          "name": "stdout",
          "text": [
            "Area:  564030705\n",
            "Length:  45689\n",
            "Width:  12345\n"
          ]
        }
      ]
    },
    {
      "cell_type": "markdown",
      "source": [
        "### **my own example 75**"
      ],
      "metadata": {
        "id": "nAB-KfLcqyWm"
      }
    },
    {
      "cell_type": "code",
      "source": [
        "print ((321 > 2 or 1 < 321) and (1!=3 and 321 > 123) and not ( 321 < 21 or 2112 < 321) and (1!=3 and 123>321))\n",
        "print (3 > 2 or 1 < 3 and (1!=3 and 4 > 3) and not ( 3 < 2 or 1 < 3 and (1!=3 and 4>3)))"
      ],
      "metadata": {
        "colab": {
          "base_uri": "https://localhost:8080/"
        },
        "id": "jeI9_6fTyuKy",
        "outputId": "89d8b73c-9367-48dc-b4e3-ce9d5ebd8303"
      },
      "execution_count": null,
      "outputs": [
        {
          "output_type": "stream",
          "name": "stdout",
          "text": [
            "False\n",
            "True\n"
          ]
        }
      ]
    },
    {
      "cell_type": "markdown",
      "source": [
        "### **my own example 76**"
      ],
      "metadata": {
        "id": "XS2g_VdKq1JD"
      }
    },
    {
      "cell_type": "code",
      "source": [
        "print ((333 > 222 or 111 < 333) and (1!=3 and 6554>36) and not ( 563 < 253 or 132 < 3134 and (1!=1 and 426>3098)))\n",
        "print (34 > 22 or 11 < 37 and (11!=555 and 30>78) and not ( 3910 < 22323 or 800 < 1343 and (176!=3 and 42087>3187)))"
      ],
      "metadata": {
        "colab": {
          "base_uri": "https://localhost:8080/"
        },
        "id": "bHqZDuI00UBj",
        "outputId": "96e3072c-ec6b-4390-d06c-f6b8446e1ed5"
      },
      "execution_count": null,
      "outputs": [
        {
          "output_type": "stream",
          "name": "stdout",
          "text": [
            "True\n",
            "True\n"
          ]
        }
      ]
    },
    {
      "cell_type": "markdown",
      "source": [
        "### **my own example 77**"
      ],
      "metadata": {
        "id": "cptTL4s4q2rx"
      }
    },
    {
      "cell_type": "code",
      "source": [
        "p = 5 > 0\n",
        "q = 4 > 3\n",
        "if p and q:\n",
        "    print (\"p and q is True\")\n",
        "elif p and not q:\n",
        "    print (\"q is False\")\n",
        "elif q and not p:\n",
        "    print (\"p is False\")\n",
        "else:\n",
        "    print (\"None of p and q is True\")"
      ],
      "metadata": {
        "colab": {
          "base_uri": "https://localhost:8080/"
        },
        "id": "Vz0YOjDq0x39",
        "outputId": "f7750b4d-58a8-4e2c-b9a2-d6cb756d04db"
      },
      "execution_count": null,
      "outputs": [
        {
          "output_type": "stream",
          "name": "stdout",
          "text": [
            "p and q is True\n"
          ]
        }
      ]
    },
    {
      "cell_type": "markdown",
      "source": [
        "### **my own example 78**"
      ],
      "metadata": {
        "id": "lzcJBwvtq3-9"
      }
    },
    {
      "cell_type": "code",
      "source": [
        "for david in [111,122,133,144,155]: print (david)"
      ],
      "metadata": {
        "colab": {
          "base_uri": "https://localhost:8080/"
        },
        "id": "ZwAWxqRb1D2M",
        "outputId": "1096b6cd-3231-4306-ee6a-27da29749673"
      },
      "execution_count": null,
      "outputs": [
        {
          "output_type": "stream",
          "name": "stdout",
          "text": [
            "111\n",
            "122\n",
            "133\n",
            "144\n",
            "155\n"
          ]
        }
      ]
    },
    {
      "cell_type": "markdown",
      "source": [
        "### **my own example 79**"
      ],
      "metadata": {
        "id": "dYgoRsWQq5ar"
      }
    },
    {
      "cell_type": "code",
      "source": [
        "for x in [1,2,3,4,5,6,7,8,9,10,11,12,13,14,15,16,17,18,19,20]: \n",
        "  print (x)"
      ],
      "metadata": {
        "colab": {
          "base_uri": "https://localhost:8080/"
        },
        "id": "QwsPH1T11L8x",
        "outputId": "8d048a8a-77f3-4aa7-8ccb-fc9b1b47fa79"
      },
      "execution_count": null,
      "outputs": [
        {
          "output_type": "stream",
          "name": "stdout",
          "text": [
            "1\n",
            "2\n",
            "3\n",
            "4\n",
            "5\n",
            "6\n",
            "7\n",
            "8\n",
            "9\n",
            "10\n",
            "11\n",
            "12\n",
            "13\n",
            "14\n",
            "15\n",
            "16\n",
            "17\n",
            "18\n",
            "19\n",
            "20\n"
          ]
        }
      ]
    },
    {
      "cell_type": "markdown",
      "source": [
        "### **my own example 80**"
      ],
      "metadata": {
        "id": "BJaaYjwmq6vP"
      }
    },
    {
      "cell_type": "code",
      "source": [
        "def product(x,y):\n",
        "    return x*y\n",
        "print (product(55,65))\n",
        "\n",
        "print (product(65,200))"
      ],
      "metadata": {
        "colab": {
          "base_uri": "https://localhost:8080/"
        },
        "id": "TVgPXJCg1XRh",
        "outputId": "52642f89-21e7-4622-f5ee-284f43c3d0e7"
      },
      "execution_count": null,
      "outputs": [
        {
          "output_type": "stream",
          "name": "stdout",
          "text": [
            "3575\n",
            "13000\n"
          ]
        }
      ]
    },
    {
      "cell_type": "markdown",
      "source": [
        "### **my own example 81**"
      ],
      "metadata": {
        "id": "fH7ivn_7q8hY"
      }
    },
    {
      "cell_type": "code",
      "source": [
        "my_time = 'Hour: {}, Minute: {}'.format(4, 20)\n",
        "print(my_time)"
      ],
      "metadata": {
        "colab": {
          "base_uri": "https://localhost:8080/"
        },
        "id": "3n7NmXgq1nZj",
        "outputId": "510aeae7-8e74-45f3-81d8-0dadd77dc029"
      },
      "execution_count": null,
      "outputs": [
        {
          "output_type": "stream",
          "name": "stdout",
          "text": [
            "Hour: 4, Minute: 20\n"
          ]
        }
      ]
    },
    {
      "cell_type": "markdown",
      "source": [
        "### **my own example 82**"
      ],
      "metadata": {
        "id": "8upJJlAPq9nd"
      }
    },
    {
      "cell_type": "code",
      "source": [
        "notasmusicales = [\"do\",\"re\",\"mi\",\"fa\",\"sol\",\"la\", \"si\"]\n",
        "print (\"número de notas musicales() {}\".format(len(notasmusicales)))\n",
        "for k in range(len(notasmusicales)):\n",
        "    print (k + 10, notasmusicales[k])"
      ],
      "metadata": {
        "colab": {
          "base_uri": "https://localhost:8080/"
        },
        "id": "_0Zmb8Ft2dxf",
        "outputId": "0bcdff73-83b8-4a50-b572-fb8e7bcde008"
      },
      "execution_count": null,
      "outputs": [
        {
          "output_type": "stream",
          "name": "stdout",
          "text": [
            "número de notas musicales() 7\n",
            "10 do\n",
            "11 re\n",
            "12 mi\n",
            "13 fa\n",
            "14 sol\n",
            "15 la\n",
            "16 si\n"
          ]
        }
      ]
    },
    {
      "cell_type": "markdown",
      "source": [
        "### **my own example 83**"
      ],
      "metadata": {
        "id": "mUTUnLZNq_CZ"
      }
    },
    {
      "cell_type": "code",
      "source": [
        "print(list(map(lambda x, y: x+y, [68,67,66,65,64], [1,2,3,4,5])))"
      ],
      "metadata": {
        "colab": {
          "base_uri": "https://localhost:8080/"
        },
        "id": "2uRRipPT2sAN",
        "outputId": "a5050a15-91e4-4757-c5a8-f42867ca3967"
      },
      "execution_count": null,
      "outputs": [
        {
          "output_type": "stream",
          "name": "stdout",
          "text": [
            "[69, 69, 69, 69, 69]\n"
          ]
        }
      ]
    },
    {
      "cell_type": "markdown",
      "source": [
        "### **my own example 84**"
      ],
      "metadata": {
        "id": "Nh08SD_9rAZ_"
      }
    },
    {
      "cell_type": "code",
      "source": [
        "price_list = [('AAPL', 144.09), ('GOOGL', 911.71), ('MSFT', 69), ('FB', 150), ('WMT', 75.32)]\n",
        "sorted(price_list, key = lambda x: x[1], reverse = True)"
      ],
      "metadata": {
        "colab": {
          "base_uri": "https://localhost:8080/"
        },
        "id": "6HtwSckl28ja",
        "outputId": "07941db3-d62e-49ad-b9e2-12fd85afd617"
      },
      "execution_count": null,
      "outputs": [
        {
          "output_type": "execute_result",
          "data": {
            "text/plain": [
              "[('GOOGL', 911.71),\n",
              " ('FB', 150),\n",
              " ('AAPL', 144.09),\n",
              " ('WMT', 75.32),\n",
              " ('MSFT', 69)]"
            ]
          },
          "metadata": {},
          "execution_count": 213
        }
      ]
    },
    {
      "cell_type": "markdown",
      "source": [
        "### **my own example 85**"
      ],
      "metadata": {
        "id": "MBC6IzXWrB7B"
      }
    },
    {
      "cell_type": "code",
      "source": [
        "a.index = indice\n",
        "print (a['2022-04-06'])"
      ],
      "metadata": {
        "colab": {
          "base_uri": "https://localhost:8080/"
        },
        "id": "OSKNHgk03EK6",
        "outputId": "4ea92979-7e26-4806-acbe-718acbf819e2"
      },
      "execution_count": null,
      "outputs": [
        {
          "output_type": "stream",
          "name": "stdout",
          "text": [
            "121314\n"
          ]
        }
      ]
    },
    {
      "cell_type": "markdown",
      "source": [
        "### **my own example 86**"
      ],
      "metadata": {
        "id": "ZyNbQL97rDJv"
      }
    },
    {
      "cell_type": "code",
      "source": [
        "indice = pd.date_range('2022-04-02', periods = len(a), freq = 'D')\n",
        "print (indice)\n",
        "a.index = indice\n",
        "print (a)"
      ],
      "metadata": {
        "colab": {
          "base_uri": "https://localhost:8080/"
        },
        "id": "j-ndwG8Q3IJ-",
        "outputId": "4ebcd36f-3db3-49d2-81b8-6cda4bb1dfbe"
      },
      "execution_count": null,
      "outputs": [
        {
          "output_type": "stream",
          "name": "stdout",
          "text": [
            "DatetimeIndex(['2022-04-02', '2022-04-03', '2022-04-04', '2022-04-05',\n",
            "               '2022-04-06'],\n",
            "              dtype='datetime64[ns]', freq='D')\n",
            "2022-04-02        12\n",
            "2022-04-03       345\n",
            "2022-04-04       678\n",
            "2022-04-05     91011\n",
            "2022-04-06    121314\n",
            "Freq: D, Name: precio de FICHAJE, dtype: int64\n"
          ]
        }
      ]
    },
    {
      "cell_type": "markdown",
      "source": [
        "### **my own example 87**"
      ],
      "metadata": {
        "id": "m8YVa38grEZX"
      }
    },
    {
      "cell_type": "code",
      "source": [
        "a.index = indice\n",
        "print (a['2022-04-06'])"
      ],
      "metadata": {
        "colab": {
          "base_uri": "https://localhost:8080/"
        },
        "id": "iTaZpUo93KTt",
        "outputId": "ff6a59ba-d1e6-4c7d-a0de-48155f79e94c"
      },
      "execution_count": null,
      "outputs": [
        {
          "output_type": "stream",
          "name": "stdout",
          "text": [
            "121314\n"
          ]
        }
      ]
    },
    {
      "cell_type": "markdown",
      "source": [
        "### **my own example 88**"
      ],
      "metadata": {
        "id": "JnjQqsr2rF7C"
      }
    },
    {
      "cell_type": "code",
      "source": [
        "first_number = 159.00\n",
        "second_number = 7.00\n",
        "print(first_number /second_number )"
      ],
      "metadata": {
        "colab": {
          "base_uri": "https://localhost:8080/"
        },
        "id": "Gy2ynIvC3UIl",
        "outputId": "0b01a2e5-13dd-4285-b596-eedab36d0b99"
      },
      "execution_count": null,
      "outputs": [
        {
          "output_type": "stream",
          "name": "stdout",
          "text": [
            "22.714285714285715\n"
          ]
        }
      ]
    },
    {
      "cell_type": "markdown",
      "source": [
        "### **my own example 89**"
      ],
      "metadata": {
        "id": "9uceWvYyrHBf"
      }
    },
    {
      "cell_type": "code",
      "source": [
        "123 + 123456\n",
        "321 + 654321"
      ],
      "metadata": {
        "colab": {
          "base_uri": "https://localhost:8080/"
        },
        "id": "AEfau_xP3U86",
        "outputId": "63bf1ab8-881e-4d28-f5a8-0e0c340924df"
      },
      "execution_count": null,
      "outputs": [
        {
          "output_type": "execute_result",
          "data": {
            "text/plain": [
              "654642"
            ]
          },
          "metadata": {},
          "execution_count": 222
        }
      ]
    },
    {
      "cell_type": "markdown",
      "source": [
        "### **my own example 90**"
      ],
      "metadata": {
        "id": "3havy4mgrIH_"
      }
    },
    {
      "cell_type": "code",
      "source": [
        "x = 10\n",
        "for i in range(10000000):\n",
        "    x = x + i\n",
        "x"
      ],
      "metadata": {
        "colab": {
          "base_uri": "https://localhost:8080/"
        },
        "id": "24N-UhTp3XAY",
        "outputId": "979b4f25-2d9d-423b-bbf9-674aa02e4493"
      },
      "execution_count": null,
      "outputs": [
        {
          "output_type": "execute_result",
          "data": {
            "text/plain": [
              "49999995000010"
            ]
          },
          "metadata": {},
          "execution_count": 220
        }
      ]
    },
    {
      "cell_type": "markdown",
      "source": [
        "### **my own example 91**"
      ],
      "metadata": {
        "id": "oc-MWKrVrJZN"
      }
    },
    {
      "cell_type": "code",
      "source": [
        "ENTERO = 232425\n",
        "print (ENTERO, type(ENTERO))"
      ],
      "metadata": {
        "colab": {
          "base_uri": "https://localhost:8080/"
        },
        "id": "zYSktuu-3a7g",
        "outputId": "1c4454a7-ed73-4bed-deb3-96b02f9c0523"
      },
      "execution_count": null,
      "outputs": [
        {
          "output_type": "stream",
          "name": "stdout",
          "text": [
            "232425 <class 'int'>\n"
          ]
        }
      ]
    },
    {
      "cell_type": "markdown",
      "source": [
        "### **my own example 92**"
      ],
      "metadata": {
        "id": "0CNcdXh2rLBX"
      }
    },
    {
      "cell_type": "code",
      "source": [
        "primero = 15874.0\n",
        "segundo = 10896.0\n",
        "print (primero / segundo)"
      ],
      "metadata": {
        "colab": {
          "base_uri": "https://localhost:8080/"
        },
        "id": "42VSclUS4Cfx",
        "outputId": "1a7fc528-2427-4fca-8331-fba6511059d1"
      },
      "execution_count": null,
      "outputs": [
        {
          "output_type": "stream",
          "name": "stdout",
          "text": [
            "1.4568649045521291\n"
          ]
        }
      ]
    },
    {
      "cell_type": "markdown",
      "source": [
        "### **my own example 93**"
      ],
      "metadata": {
        "id": "Gv24Yb8IrMeJ"
      }
    },
    {
      "cell_type": "code",
      "source": [
        "my_list_2 = ['one', 'two', 'three']\n",
        "print( my_list_2)"
      ],
      "metadata": {
        "colab": {
          "base_uri": "https://localhost:8080/"
        },
        "id": "i1sM5qne4p2e",
        "outputId": "72e4d078-41bf-4c00-9cf3-76fc4d58b507"
      },
      "execution_count": null,
      "outputs": [
        {
          "output_type": "stream",
          "name": "stdout",
          "text": [
            "['one', 'two', 'three']\n"
          ]
        }
      ]
    },
    {
      "cell_type": "markdown",
      "source": [
        "### **my own example 94**"
      ],
      "metadata": {
        "id": "7Q5HnNEwrOGr"
      }
    },
    {
      "cell_type": "code",
      "source": [
        "my_list_3 = [True, 'False', 0 , 12]"
      ],
      "metadata": {
        "id": "_JGN3cDh4rx5"
      },
      "execution_count": null,
      "outputs": []
    },
    {
      "cell_type": "markdown",
      "source": [
        "### **my own example 95**"
      ],
      "metadata": {
        "id": "aN87ftu3rPUD"
      }
    },
    {
      "cell_type": "code",
      "source": [
        "print (my_list_3)"
      ],
      "metadata": {
        "colab": {
          "base_uri": "https://localhost:8080/"
        },
        "id": "yrzweESJ40kC",
        "outputId": "a4df5234-8d5c-4ee7-878e-d8df15669f39"
      },
      "execution_count": null,
      "outputs": [
        {
          "output_type": "stream",
          "name": "stdout",
          "text": [
            "[True, 'False', 0, 12]\n"
          ]
        }
      ]
    },
    {
      "cell_type": "markdown",
      "source": [
        "### **my own example 96**"
      ],
      "metadata": {
        "id": "5YM-_ojKrQ3B"
      }
    },
    {
      "cell_type": "code",
      "source": [
        "primera = '\"El futbol es mas que un deporte'\n",
        "segunda = 'Es una pasion'\n",
        "tercera = primera + segunda\n",
        "print (tercera)\n",
        "\n",
        "cuerda = 'El futbol es mas que un deporte'\n",
        "print ('Primera letra: ', my_string[0]) \n",
        "print ('Ultima letra: ', my_string[-1]) \n",
        "print ('Segunda antes de la ultima: ', my_string[-2]) \n",
        "print ('Los primeros 5 caracteres son: ', my_string[0:5]) \n",
        "print ('Al revez es: ', cuerda[::-1])\n",
        "\n",
        "print ('El futbol es mas que un deporte sin racismo: ', cuerda.count('i'))\n",
        "print ('Viva el futbol : ', cuerda.count('o'))\n",
        "\n",
        "print ('La primera vez que aparece d: ', cuerda.find(\"d\"))\n",
        "\n",
        "print (\"Reemplazar las o por a: \", cuerda.replace('o', 'e'))\n",
        "\n",
        "print (\"No siempre se gana\".replace('gana', 'pierde'))"
      ],
      "metadata": {
        "colab": {
          "base_uri": "https://localhost:8080/"
        },
        "id": "v9N3D_nO57Gw",
        "outputId": "84660f13-ac8d-4031-feaf-a38f146fa6ff"
      },
      "execution_count": null,
      "outputs": [
        {
          "output_type": "stream",
          "name": "stdout",
          "text": [
            "\"El futbol es mas que un deporteEs una pasion\n",
            "Primera letra:  2\n",
            "Ultima letra:  3\n",
            "Segunda antes de la ultima:  2\n",
            "Los primeros 5 caracteres son:  23\n",
            "Al revez es:  etroped nu euq sam se lobtuf lE\n",
            "El futbol es mas que un deporte sin racismo:  0\n",
            "Viva el futbol :  2\n",
            "La primera vez que aparece d:  24\n",
            "Reemplazar las o por a:  El futbel es mas que un deperte\n",
            "No siempre se pierde\n"
          ]
        }
      ]
    },
    {
      "cell_type": "markdown",
      "source": [
        "### **my own example 97**"
      ],
      "metadata": {
        "id": "oKyA8nNmrSPF"
      }
    },
    {
      "cell_type": "code",
      "source": [
        "pasatiempos = ['futbol', 'sala', 'ejercicio', 'guitarra', 'cantar', 'nadar', 'pases']\n",
        "print (pasatiempos)"
      ],
      "metadata": {
        "colab": {
          "base_uri": "https://localhost:8080/"
        },
        "id": "23wc50m949aM",
        "outputId": "d1a09542-6ecc-4d59-d811-2c2b72d40b25"
      },
      "execution_count": null,
      "outputs": [
        {
          "output_type": "stream",
          "name": "stdout",
          "text": [
            "['futbol', 'sala', 'ejercicio', 'guitarra', 'cantar', 'nadar', 'pases']\n"
          ]
        }
      ]
    },
    {
      "cell_type": "markdown",
      "source": [
        "### **my own example 98**"
      ],
      "metadata": {
        "id": "9-DO95hirToF"
      }
    },
    {
      "cell_type": "code",
      "source": [
        "print(\"CUENTE EL NUMERO DE As EN ESTA FRASE\".count('A'))\n",
        "print('LA PRIMERA VEZ QUE APARECE LA A'.find('A'))\n",
        "print('YES, YOU ARE RIGHT'.replace('Y','E'))"
      ],
      "metadata": {
        "colab": {
          "base_uri": "https://localhost:8080/"
        },
        "id": "dI95f5347Ash",
        "outputId": "938f71a8-6a46-4a8f-c7f5-3a380a6dac66"
      },
      "execution_count": null,
      "outputs": [
        {
          "output_type": "stream",
          "name": "stdout",
          "text": [
            "3\n",
            "1\n",
            "EES, EOU ARE RIGHT\n"
          ]
        }
      ]
    },
    {
      "cell_type": "markdown",
      "source": [
        "### **my own example 99**"
      ],
      "metadata": {
        "id": "iB116aVUrUvl"
      }
    },
    {
      "cell_type": "code",
      "source": [
        "print (2 > 3 and 3 > 4)\n",
        "print (56 > 98 and 5**5 < 5*5*5*5*5)\n",
        "print (2*2*2 > 2**2 or  45*5 < 5**5)\n",
        "print (3**3 >= 3*3*3 and 3 < 5)"
      ],
      "metadata": {
        "colab": {
          "base_uri": "https://localhost:8080/"
        },
        "id": "ao_Qhqds7Z0F",
        "outputId": "df9955e6-5de4-40c9-fc28-2e697675a45b"
      },
      "execution_count": null,
      "outputs": [
        {
          "output_type": "stream",
          "name": "stdout",
          "text": [
            "False\n",
            "False\n",
            "True\n",
            "True\n"
          ]
        }
      ]
    },
    {
      "cell_type": "markdown",
      "source": [
        "### **my own example 100**"
      ],
      "metadata": {
        "id": "OXXS6260rVu_"
      }
    },
    {
      "cell_type": "code",
      "source": [
        "i = 0\n",
        "while i < 5:\n",
        "    print (i)\n",
        "    i += 1"
      ],
      "metadata": {
        "id": "CCwtULrx8ECX",
        "outputId": "1e7cde80-32c1-4c34-df88-1175fcab2af7",
        "colab": {
          "base_uri": "https://localhost:8080/"
        }
      },
      "execution_count": null,
      "outputs": [
        {
          "output_type": "stream",
          "name": "stdout",
          "text": [
            "0\n",
            "1\n",
            "2\n",
            "3\n",
            "4\n"
          ]
        }
      ]
    },
    {
      "cell_type": "code",
      "source": [
        "print(oct(18917289))"
      ],
      "metadata": {
        "colab": {
          "base_uri": "https://localhost:8080/"
        },
        "id": "8R2ufbTp_fc9",
        "outputId": "156eed36-822f-44b5-dd6d-98a6bc40775d"
      },
      "execution_count": null,
      "outputs": [
        {
          "output_type": "stream",
          "name": "stdout",
          "text": [
            "0o110123651\n"
          ]
        }
      ]
    },
    {
      "cell_type": "code",
      "source": [
        "ini = 128\n",
        "fin = 0\n",
        "x = 64\n",
        "while(ini < fin):\n",
        "  mid = int ( (ini + fin + 1)/2 )\n",
        "  if( mid > x):\n",
        "    fin = mid - 1\n",
        "  else:\n",
        "    ini = mid"
      ],
      "metadata": {
        "id": "DWXkdoKYATWd"
      },
      "execution_count": null,
      "outputs": []
    },
    {
      "cell_type": "code",
      "source": [
        "priority_queue<int> q;\n",
        "\n",
        "for(int i = 1; i <= 11; i++){\n",
        "\n",
        "    q.push(i);\n",
        "\n",
        "}\n",
        "\n",
        "cout<<q.top()<<endl;"
      ],
      "metadata": {
        "colab": {
          "base_uri": "https://localhost:8080/",
          "height": 130
        },
        "id": "_AUPoVcjBP7R",
        "outputId": "5aa416cb-77f9-423c-cf2b-c56a572e7a06"
      },
      "execution_count": null,
      "outputs": [
        {
          "output_type": "error",
          "ename": "SyntaxError",
          "evalue": "ignored",
          "traceback": [
            "\u001b[0;36m  File \u001b[0;32m\"<ipython-input-10-64f5088219fb>\"\u001b[0;36m, line \u001b[0;32m3\u001b[0m\n\u001b[0;31m    for(int i = 1; i <= 11; i++){\u001b[0m\n\u001b[0m            ^\u001b[0m\n\u001b[0;31mSyntaxError\u001b[0m\u001b[0;31m:\u001b[0m invalid syntax\n"
          ]
        }
      ]
    },
    {
      "cell_type": "code",
      "source": [
        "b = np.linspace(-180,180,5)\n",
        "print(b/45)"
      ],
      "metadata": {
        "colab": {
          "base_uri": "https://localhost:8080/"
        },
        "id": "JmRYjVHMF_fj",
        "outputId": "95ae281d-fd71-42be-8a89-75e039464db9"
      },
      "execution_count": null,
      "outputs": [
        {
          "output_type": "stream",
          "name": "stdout",
          "text": [
            "[-4. -2.  0.  2.  4.]\n"
          ]
        }
      ]
    },
    {
      "cell_type": "code",
      "source": [
        "\"0123456\".find('1')"
      ],
      "metadata": {
        "colab": {
          "base_uri": "https://localhost:8080/"
        },
        "id": "9Exu80uPb1qA",
        "outputId": "10b21ea8-57cf-431a-e502-03bb98807938"
      },
      "execution_count": null,
      "outputs": [
        {
          "output_type": "execute_result",
          "data": {
            "text/plain": [
              "1"
            ]
          },
          "metadata": {},
          "execution_count": 18
        }
      ]
    },
    {
      "cell_type": "code",
      "source": [
        "Numbers = \"0123456\"\n",
        "Numbers[::2]"
      ],
      "metadata": {
        "colab": {
          "base_uri": "https://localhost:8080/",
          "height": 35
        },
        "id": "e71QkSZ5b7Be",
        "outputId": "9c4d1da8-e8c4-4966-fb5e-0dcd8fa91ace"
      },
      "execution_count": null,
      "outputs": [
        {
          "output_type": "execute_result",
          "data": {
            "text/plain": [
              "'0246'"
            ],
            "application/vnd.google.colaboratory.intrinsic+json": {
              "type": "string"
            }
          },
          "metadata": {},
          "execution_count": 21
        }
      ]
    }
  ]
}